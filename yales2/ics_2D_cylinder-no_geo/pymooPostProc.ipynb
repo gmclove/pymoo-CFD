{
 "cells": [
  {
   "cell_type": "code",
   "execution_count": null,
   "id": "5c171dac",
   "metadata": {},
   "outputs": [],
   "source": [
    "import os\n",
    "import numpy as np\n",
    "from pymooIN import *"
   ]
  },
  {
   "cell_type": "code",
   "execution_count": null,
   "id": "e8ed3395",
   "metadata": {},
   "outputs": [],
   "source": [
    "# checkpointDir = 'checkpoint' + '.npy'\n",
    "checkpointDir = 'checkpoint.npy'\n",
    "\n",
    "plotDir = './plots'"
   ]
  },
  {
   "cell_type": "code",
   "execution_count": null,
   "id": "62d4173b",
   "metadata": {},
   "outputs": [],
   "source": [
    "checkpoint, = np.load(checkpointDir, allow_pickle=True).flatten()\n",
    "algorithm = checkpoint\n",
    "\n",
    "pf = algorithm.problem.pareto_front()\n",
    "ps = algorithm.problem.pareto_set()\n",
    "\n",
    "print('Number of individuals in final population: ' + str(len(algorithm.pop.get('X'))))\n",
    "print('Number of generations: ', str(algorithm.n_gen), str(len(algorithm.callback.data['var'])), str(len(algorithm.callback.data['obj'])))"
   ]
  },
  {
   "cell_type": "code",
   "execution_count": null,
   "id": "89d03cd3",
   "metadata": {},
   "outputs": [],
   "source": [
    "print('FINAL POPULATION')\n",
    "print('Parameters')\n",
    "print(algorithm.pop.get('X'))\n",
    "print('Objectives')\n",
    "print(algorithm.pop.get('F'))"
   ]
  },
  {
   "cell_type": "code",
   "execution_count": null,
   "id": "3a3b8297",
   "metadata": {},
   "outputs": [],
   "source": [
    "print('EVERY GENERATION')\n",
    "for gen in range(algorithm.n_gen):\n",
    "    print(f'generation {gen}')\n",
    "    var_g = algorithm.callback.data['var'][gen]\n",
    "    obj_g = algorithm.callback.data['obj'][gen]\n",
    "    for ind in range(len(var_g)):\n",
    "        var_i = var_g[ind]\n",
    "        obj_i = obj_g[ind]\n",
    "        print(f'gen{gen} ind{ind}: ', end='')\n",
    "        for n in range(len(var_i)):\n",
    "            print(f'{var_labels[n]}: {var_i[n]}', end=' ')\n",
    "        print(' // ', end='')\n",
    "        for n in range(len(obj_i)):\n",
    "            print(obj_labels[n] + ':' + '%.3f' % obj_i[n], end=' ')\n",
    "        print()"
   ]
  },
  {
   "cell_type": "markdown",
   "id": "b6e43600",
   "metadata": {},
   "source": [
    "#### Create Directory for Saving Plots"
   ]
  },
  {
   "cell_type": "code",
   "execution_count": null,
   "id": "92286658",
   "metadata": {},
   "outputs": [],
   "source": [
    "try:\n",
    "    os.mkdir(plotDir)\n",
    "except OSError:\n",
    "    print(plotDir + ' directory already exists')"
   ]
  },
  {
   "cell_type": "markdown",
   "id": "66b64e41",
   "metadata": {},
   "source": [
    "### Scatter Plots"
   ]
  },
  {
   "cell_type": "code",
   "execution_count": null,
   "id": "b33a7955",
   "metadata": {},
   "outputs": [],
   "source": [
    "from pymoo.visualization.scatter import Scatter"
   ]
  },
  {
   "cell_type": "code",
   "execution_count": null,
   "id": "635748d1",
   "metadata": {},
   "outputs": [],
   "source": [
    "# All design points\n",
    "if algorithm.n_gen < 10:\n",
    "    leg = True\n",
    "else:\n",
    "    leg = False\n",
    "plot = Scatter(title='Entire Design Space', legend=leg, labels=var_labels)\n",
    "for g in range(len(algorithm.callback.data['var'])):  # range(algorithm.n_gen)\n",
    "    plot.add(algorithm.callback.data['var'][g][:], label='GEN %i' % g)\n",
    "if ps is not None:\n",
    "    plot.add(ps, plot_type=\"line\", color=\"black\", alpha=0.7)\n",
    "plot.save(plotDir + '/entire_design_space.png')\n",
    "\n",
    "# All objective points\n",
    "plot = Scatter(title='Entire Objective Space', legend=leg, labels=obj_labels)\n",
    "for g in range(len(algorithm.callback.data['var'])):\n",
    "    plot.add(algorithm.callback.data['obj'][g][:], label='GEN %i' % g)\n",
    "if pf is not None:\n",
    "    plot.add(pf, plot_type=\"line\", color=\"black\", alpha=0.7)\n",
    "plot.save(plotDir + '/entire_obj_space.png')"
   ]
  },
  {
   "cell_type": "markdown",
   "id": "0766cc89",
   "metadata": {},
   "source": [
    "### Last 10 Generation of Parameter and Objective Spaces"
   ]
  },
  {
   "cell_type": "code",
   "execution_count": null,
   "id": "91e2aa57",
   "metadata": {},
   "outputs": [],
   "source": [
    "# Last 10 generations\n",
    "# last 10 gens. design points\n",
    "if algorithm.n_gen > 10:\n",
    "    plot = Scatter(title='Last 10 Generations Design Space', legend=True, labels=var_labels)\n",
    "    for g in range(algorithm.n_gen-10, algorithm.n_gen):  # algorithm.n_gen == len(algorithm.callback.data['var'])\n",
    "        plot.add(algorithm.callback.data['var'][g][:], label='GEN %i' % g)\n",
    "    if ps is not None:\n",
    "        plot.add(ps, plot_type=\"line\", color=\"black\", alpha=0.7)\n",
    "    plot.save(plotDir + '/final_10_design_space.png')\n",
    "    # last 10 gens. objective points\n",
    "    plot = Scatter(title='Last 10 Generations Objective Space', legend=True, labels=obj_labels)\n",
    "    for g in range(len(algorithm.callback.data['obj'])-10, len(algorithm.callback.data['obj'])):  # range(algorithm.n_gen)\n",
    "        plot.add(algorithm.callback.data['obj'][g][:], label='GEN %i' % g)\n",
    "    if pf is not None:\n",
    "        plot.add(pf, plot_type=\"line\", color=\"black\", alpha=0.7)\n",
    "    plot.save(plotDir + '/final_10_obj_space.png')\n"
   ]
  },
  {
   "cell_type": "markdown",
   "id": "ebbdcea8",
   "metadata": {},
   "source": [
    "#### Decision Making "
   ]
  },
  {
   "cell_type": "code",
   "execution_count": null,
   "id": "116c7907",
   "metadata": {},
   "outputs": [],
   "source": [
    "if pf is not None:\n",
    "    from pymoo.factory import get_decision_making\n",
    "\n",
    "    dm = get_decision_making(\"high-tradeoff\")\n",
    "\n",
    "    I = dm.do(pf)\n",
    "\n",
    "    plot = Scatter(title='Pareto Front: High Tradeoff Points')\n",
    "    plot.add(pf, alpha=0.2)\n",
    "    plot.add(pf[I], color=\"red\", s=100)\n",
    "    plot.save(plotDir + '/pf-high-tradeoff')"
   ]
  },
  {
   "cell_type": "code",
   "execution_count": null,
   "id": "2837aa78",
   "metadata": {},
   "outputs": [],
   "source": []
  },
  {
   "cell_type": "code",
   "execution_count": null,
   "id": "bdf632f7",
   "metadata": {},
   "outputs": [],
   "source": [
    "# from pymoo.util.running_metric import RunningMetric\n",
    "\n",
    "# running = RunningMetric(\n",
    "#                         delta_gen=5,\n",
    "#                         # n_plots=4,\n",
    "#                         only_if_n_plots=True,\n",
    "#                         key_press=False,\n",
    "#                         do_show=True)\n",
    "\n",
    "# running.notify(algorithm)"
   ]
  },
  {
   "cell_type": "code",
   "execution_count": null,
   "id": "59a6c467",
   "metadata": {},
   "outputs": [],
   "source": [
    "\n"
   ]
  }
 ],
 "metadata": {
  "kernelspec": {
   "display_name": "pymoo-CFD",
   "language": "python",
   "name": "pymoo-cfd"
  },
  "language_info": {
   "codemirror_mode": {
    "name": "ipython",
    "version": 3
   },
   "file_extension": ".py",
   "mimetype": "text/x-python",
   "name": "python",
   "nbconvert_exporter": "python",
   "pygments_lexer": "ipython3",
   "version": "3.8.5"
  }
 },
 "nbformat": 4,
 "nbformat_minor": 5
}
