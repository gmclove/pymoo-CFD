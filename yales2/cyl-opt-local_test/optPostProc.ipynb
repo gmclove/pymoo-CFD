{
 "cells": [
  {
   "cell_type": "code",
   "execution_count": 1,
   "id": "4a6b2807",
   "metadata": {},
   "outputs": [],
   "source": [
    "# import pymoo"
   ]
  },
  {
   "cell_type": "code",
   "execution_count": 2,
   "id": "8a722235",
   "metadata": {},
   "outputs": [
    {
     "name": "stdout",
     "output_type": "stream",
     "text": [
      "[Errno 17] File exists: 'dump'\n",
      "[Errno 17] File exists: 'archive'\n",
      "[Errno 17] File exists: './plots'\n"
     ]
    }
   ],
   "source": [
    "import os\n",
    "import numpy as np\n",
    "from pymooCFD.setupOpt import *"
   ]
  },
  {
   "cell_type": "code",
   "execution_count": 3,
   "id": "01a9187b",
   "metadata": {},
   "outputs": [],
   "source": [
    "checkpointDir = './dump/checkpoint.npy'\n",
    "plotDir = './plots'"
   ]
  },
  {
   "cell_type": "markdown",
   "id": "4785ec44",
   "metadata": {},
   "source": [
    "#### Create Directory for Saving Plots"
   ]
  },
  {
   "cell_type": "code",
   "execution_count": 4,
   "id": "e76344ca",
   "metadata": {},
   "outputs": [
    {
     "name": "stdout",
     "output_type": "stream",
     "text": [
      "[Errno 17] File exists: './plots'\n"
     ]
    }
   ],
   "source": [
    "try: \n",
    "    os.mkdir(plotDir)\n",
    "except OSError as err:\n",
    "    print(err)"
   ]
  },
  {
   "cell_type": "markdown",
   "id": "c32f9c28",
   "metadata": {},
   "source": [
    "#### Load Data from .npy Checkpoint"
   ]
  },
  {
   "cell_type": "code",
   "execution_count": 5,
   "id": "ff0e1c56",
   "metadata": {},
   "outputs": [
    {
     "name": "stdout",
     "output_type": "stream",
     "text": [
      "Number of individuals in final population: 10\n",
      "Number of generations:  13 13 13\n"
     ]
    }
   ],
   "source": [
    "checkpoint, = np.load(checkpointDir, allow_pickle=True).flatten()\n",
    "algorithm = checkpoint\n",
    "\n",
    "print('Number of individuals in final population: ' + str(len(algorithm.pop.get('X'))))\n",
    "print('Number of generations: ', str(algorithm.n_gen), str(len(algorithm.callback.data['var'])), str(len(algorithm.callback.data['obj'])))"
   ]
  },
  {
   "cell_type": "code",
   "execution_count": 6,
   "id": "73a7975f",
   "metadata": {},
   "outputs": [
    {
     "name": "stdout",
     "output_type": "stream",
     "text": [
      "FINAL POPULATION\n",
      "Parameters\n",
      "[[2.7863094035640303 0.32081435548174336]\n",
      " [0.10016566250512504 0.20831190152971618]\n",
      " [0.3332806242351471 0.11458727831531074]\n",
      " [0.17708839859409423 0.3416295934584178]\n",
      " [0.5809767992109119 0.11194711212175772]\n",
      " [0.10016566250512504 0.21740174474952753]\n",
      " [0.10016566250512504 0.4775966898905699]\n",
      " [0.10016566250512504 0.22741916381794672]\n",
      " [0.15252634586533365 0.30049798277327183]\n",
      " [2.7863094035640303 0.3633582586855653]]\n",
      "Objectives\n",
      "[[9.35320768e-01 6.12269124e+02]\n",
      " [1.14199976e+00 5.13785334e-01]\n",
      " [1.11330557e+00 3.12886209e+00]\n",
      " [1.13816122e+00 2.63369567e+00]\n",
      " [9.97965044e-01 9.28881596e+00]\n",
      " [1.14124532e+00 5.36204736e-01]\n",
      " [1.13928141e+00 1.17795562e+00]\n",
      " [1.14084055e+00 5.60911932e-01]\n",
      " [1.13964246e+00 1.71854606e+00]\n",
      " [9.88057609e-01 6.93463491e+02]]\n"
     ]
    }
   ],
   "source": [
    "print('FINAL POPULATION')\n",
    "print('Parameters')\n",
    "print(algorithm.pop.get('X'))\n",
    "print('Objectives')\n",
    "print(algorithm.pop.get('F'))"
   ]
  },
  {
   "cell_type": "code",
   "execution_count": 7,
   "id": "e1c235e3",
   "metadata": {},
   "outputs": [
    {
     "name": "stdout",
     "output_type": "stream",
     "text": [
      "EVERY GENERATION\n",
      "generation 0\n",
      "ind0: Amplitude: 0.10033168697030018 Frequency: 0.3720993153686558  // Drag on Cylinder:1.141 Power Input:0.921 \n",
      "ind1: Amplitude: 1.2506256752689429 Frequency: 0.5849350606030213  // Drag on Cylinder:1.111 Power Input:224.901 \n",
      "ind2: Amplitude: 0.17942402027398588 Frequency: 0.703420759160562  // Drag on Cylinder:1.140 Power Input:5.567 \n",
      "ind3: Amplitude: 1.3101839268646682 Frequency: 0.6028208456011764  // Drag on Cylinder:1.110 Power Input:254.380 \n",
      "ind4: Amplitude: 0.5071221219261779 Frequency: 0.2782913401763909  // Drag on Cylinder:1.126 Power Input:17.594 \n",
      "ind5: Amplitude: 0.5255920833696278 Frequency: 0.183104735291918  // Drag on Cylinder:1.191 Power Input:12.434 \n",
      "ind6: Amplitude: 1.315664091769555 Frequency: 0.7166975503570835  // Drag on Cylinder:1.117 Power Input:304.969 \n",
      "ind7: Amplitude: 0.6401546129952456 Frequency: 0.411004654338743  // Drag on Cylinder:1.130 Power Input:41.404 \n",
      "ind8: Amplitude: 1.3093638136374646 Frequency: 0.7482920440979423  // Drag on Cylinder:1.119 Power Input:315.371 \n",
      "ind9: Amplitude: 0.6929115242214006 Frequency: 0.8903056927518509  // Drag on Cylinder:1.137 Power Input:105.081 \n",
      "generation 1\n",
      "ind0: Amplitude: 0.10033168697030018 Frequency: 0.3720993153686558  // Drag on Cylinder:1.141 Power Input:0.921 \n",
      "ind1: Amplitude: 1.2506256752689429 Frequency: 0.5849350606030213  // Drag on Cylinder:1.111 Power Input:224.901 \n",
      "ind2: Amplitude: 0.15451372058671356 Frequency: 0.2782913401763909  // Drag on Cylinder:1.139 Power Input:1.633 \n",
      "ind3: Amplitude: 0.901135350584949 Frequency: 0.411004654338743  // Drag on Cylinder:1.117 Power Input:82.046 \n",
      "ind4: Amplitude: 0.5255920833696278 Frequency: 0.25473499129457144  // Drag on Cylinder:1.119 Power Input:17.299 \n",
      "ind5: Amplitude: 1.3101839268646682 Frequency: 0.5974862916555826  // Drag on Cylinder:1.109 Power Input:252.129 \n",
      "ind6: Amplitude: 0.17708839859409423 Frequency: 0.5393288706574543  // Drag on Cylinder:1.140 Power Input:4.158 \n",
      "ind7: Amplitude: 0.5071221219261779 Frequency: 0.2782913401763909  // Drag on Cylinder:1.126 Power Input:17.594 \n",
      "ind8: Amplitude: 1.3101839268646682 Frequency: 0.6028208456011764  // Drag on Cylinder:1.110 Power Input:254.380 \n",
      "ind9: Amplitude: 1.2506256752689429 Frequency: 0.6615162759532307  // Drag on Cylinder:1.117 Power Input:254.346 \n",
      "generation 2\n",
      "ind0: Amplitude: 0.10033168697030018 Frequency: 0.3720993153686558  // Drag on Cylinder:1.141 Power Input:0.921 \n",
      "ind1: Amplitude: 0.15451372058671356 Frequency: 0.2782913401763909  // Drag on Cylinder:1.139 Power Input:1.633 \n",
      "ind2: Amplitude: 0.901135350584949 Frequency: 0.411004654338743  // Drag on Cylinder:1.117 Power Input:82.046 \n",
      "ind3: Amplitude: 0.5255920833696278 Frequency: 0.25473499129457144  // Drag on Cylinder:1.119 Power Input:17.299 \n",
      "ind4: Amplitude: 0.17708839859409423 Frequency: 0.3416295934584178  // Drag on Cylinder:1.138 Power Input:2.634 \n",
      "ind5: Amplitude: 1.4032646163503704 Frequency: 0.2782913401763909  // Drag on Cylinder:1.108 Power Input:134.713 \n",
      "ind6: Amplitude: 1.5016829954963524 Frequency: 0.509947793795055  // Drag on Cylinder:1.104 Power Input:282.691 \n",
      "ind7: Amplitude: 0.10033168697030018 Frequency: 0.6028154235501392  // Drag on Cylinder:1.141 Power Input:1.492 \n",
      "ind8: Amplitude: 1.3101839268646682 Frequency: 0.5974862916555826  // Drag on Cylinder:1.109 Power Input:252.129 \n",
      "ind9: Amplitude: 0.5071221219261779 Frequency: 0.2782913401763909  // Drag on Cylinder:1.126 Power Input:17.594 \n",
      "generation 3\n",
      "ind0: Amplitude: 0.10033168697030018 Frequency: 0.3720993153686558  // Drag on Cylinder:1.141 Power Input:0.921 \n",
      "ind1: Amplitude: 0.15451372058671356 Frequency: 0.2782913401763909  // Drag on Cylinder:1.139 Power Input:1.633 \n",
      "ind2: Amplitude: 0.901135350584949 Frequency: 0.411004654338743  // Drag on Cylinder:1.117 Power Input:82.046 \n",
      "ind3: Amplitude: 0.5255920833696278 Frequency: 0.25473499129457144  // Drag on Cylinder:1.119 Power Input:17.299 \n",
      "ind4: Amplitude: 0.17708839859409423 Frequency: 0.3416295934584178  // Drag on Cylinder:1.138 Power Input:2.634 \n",
      "ind5: Amplitude: 1.4032646163503704 Frequency: 0.2782913401763909  // Drag on Cylinder:1.108 Power Input:134.713 \n",
      "ind6: Amplitude: 1.5016829954963524 Frequency: 0.509947793795055  // Drag on Cylinder:1.104 Power Input:282.691 \n",
      "ind7: Amplitude: 0.10016566250512504 Frequency: 0.20831190152971618  // Drag on Cylinder:1.142 Power Input:0.514 \n",
      "ind8: Amplitude: 1.1961140796199181 Frequency: 0.2936993260392715  // Drag on Cylinder:1.113 Power Input:103.295 \n",
      "ind9: Amplitude: 0.1303378134766505 Frequency: 0.25669617454520366  // Drag on Cylinder:1.139 Power Input:1.072 \n",
      "generation 4\n",
      "ind0: Amplitude: 0.10016566250512504 Frequency: 0.20831190152971618  // Drag on Cylinder:1.142 Power Input:0.514 \n",
      "ind1: Amplitude: 2.4534258152108803 Frequency: 0.37872222850220494  // Drag on Cylinder:1.036 Power Input:560.398 \n",
      "ind2: Amplitude: 1.4087280298198728 Frequency: 0.5617188959294429  // Drag on Cylinder:1.103 Power Input:274.033 \n",
      "ind3: Amplitude: 1.4962195860192984 Frequency: 0.2782913401763909  // Drag on Cylinder:1.104 Power Input:153.151 \n",
      "ind4: Amplitude: 0.4871206049970921 Frequency: 0.25473499129457144  // Drag on Cylinder:1.127 Power Input:14.859 \n",
      "ind5: Amplitude: 0.5255920833696278 Frequency: 0.25473499129457144  // Drag on Cylinder:1.119 Power Input:17.299 \n",
      "ind6: Amplitude: 1.4032646163503704 Frequency: 0.2782913401763909  // Drag on Cylinder:1.108 Power Input:134.713 \n",
      "ind7: Amplitude: 1.1961140796199181 Frequency: 0.2936993260392715  // Drag on Cylinder:1.113 Power Input:103.295 \n",
      "ind8: Amplitude: 0.901135350584949 Frequency: 0.411004654338743  // Drag on Cylinder:1.117 Power Input:82.046 \n",
      "ind9: Amplitude: 0.17708839859409423 Frequency: 0.3416295934584178  // Drag on Cylinder:1.138 Power Input:2.634 \n",
      "generation 5\n",
      "ind0: Amplitude: 0.10016566250512504 Frequency: 0.20831190152971618  // Drag on Cylinder:1.142 Power Input:0.514 \n",
      "ind1: Amplitude: 2.987281076615339 Frequency: 0.6404569627016852  // Drag on Cylinder:1.015 Power Input:1404.986 \n",
      "ind2: Amplitude: 2.4534258152108803 Frequency: 0.37872222850220494  // Drag on Cylinder:1.036 Power Input:560.398 \n",
      "ind3: Amplitude: 2.176113752715322 Frequency: 0.25473499129457144  // Drag on Cylinder:1.079 Power Input:296.539 \n",
      "ind4: Amplitude: 2.8965903571924696 Frequency: 0.25406490682797356  // Drag on Cylinder:1.052 Power Input:524.021 \n",
      "ind5: Amplitude: 1.4087280298198728 Frequency: 0.5617188959294429  // Drag on Cylinder:1.103 Power Input:274.033 \n",
      "ind6: Amplitude: 0.3332806242351471 Frequency: 0.11458727831531074  // Drag on Cylinder:1.113 Power Input:3.129 \n",
      "ind7: Amplitude: 0.17708839859409423 Frequency: 0.3416295934584178  // Drag on Cylinder:1.138 Power Input:2.634 \n",
      "ind8: Amplitude: 1.1961140796199181 Frequency: 0.2936993260392715  // Drag on Cylinder:1.113 Power Input:103.295 \n",
      "ind9: Amplitude: 1.4962195860192984 Frequency: 0.2782913401763909  // Drag on Cylinder:1.104 Power Input:153.151 \n",
      "generation 6\n",
      "ind0: Amplitude: 0.10016566250512504 Frequency: 0.20831190152971618  // Drag on Cylinder:1.142 Power Input:0.514 \n",
      "ind1: Amplitude: 0.3332806242351471 Frequency: 0.11458727831531074  // Drag on Cylinder:1.113 Power Input:3.129 \n",
      "ind2: Amplitude: 0.17708839859409423 Frequency: 0.3416295934584178  // Drag on Cylinder:1.138 Power Input:2.634 \n",
      "ind3: Amplitude: 0.670431027036948 Frequency: 0.11688332234670368  // Drag on Cylinder:1.049 Power Input:12.915 \n",
      "ind4: Amplitude: 2.8278188490201024 Frequency: 0.4496560923643783  // Drag on Cylinder:0.983 Power Input:883.921 \n",
      "ind5: Amplitude: 2.4534258152108803 Frequency: 0.34717928862976866  // Drag on Cylinder:1.018 Power Input:513.724 \n",
      "ind6: Amplitude: 2.987281076615339 Frequency: 0.6404569627016852  // Drag on Cylinder:1.015 Power Input:1404.986 \n",
      "ind7: Amplitude: 0.5583044037527847 Frequency: 0.20831190152971618  // Drag on Cylinder:1.134 Power Input:15.962 \n",
      "ind8: Amplitude: 2.4534258152108803 Frequency: 0.37872222850220494  // Drag on Cylinder:1.036 Power Input:560.398 \n",
      "ind9: Amplitude: 2.983547619174812 Frequency: 0.6397717551897826  // Drag on Cylinder:1.015 Power Input:1399.977 \n",
      "generation 7\n",
      "ind0: Amplitude: 0.10016566250512504 Frequency: 0.20831190152971618  // Drag on Cylinder:1.142 Power Input:0.514 \n",
      "ind1: Amplitude: 0.3332806242351471 Frequency: 0.11458727831531074  // Drag on Cylinder:1.113 Power Input:3.129 \n",
      "ind2: Amplitude: 0.17708839859409423 Frequency: 0.3416295934584178  // Drag on Cylinder:1.138 Power Input:2.634 \n",
      "ind3: Amplitude: 0.670431027036948 Frequency: 0.11688332234670368  // Drag on Cylinder:1.049 Power Input:12.915 \n",
      "ind4: Amplitude: 2.4534258152108803 Frequency: 0.34717928862976866  // Drag on Cylinder:1.018 Power Input:513.724 \n",
      "ind5: Amplitude: 2.7863094035640303 Frequency: 0.32081435548174336  // Drag on Cylinder:0.935 Power Input:612.269 \n",
      "ind6: Amplitude: 0.670431027036948 Frequency: 0.12448914594076879  // Drag on Cylinder:1.104 Power Input:13.755 \n",
      "ind7: Amplitude: 2.4534258152108803 Frequency: 0.37872222850220494  // Drag on Cylinder:1.036 Power Input:560.398 \n",
      "ind8: Amplitude: 2.8278188490201024 Frequency: 0.4496560923643783  // Drag on Cylinder:0.983 Power Input:883.921 \n",
      "ind9: Amplitude: 2.4534258152108803 Frequency: 0.5050078459260565  // Drag on Cylinder:1.028 Power Input:747.264 \n",
      "generation 8\n",
      "ind0: Amplitude: 0.10016566250512504 Frequency: 0.20831190152971618  // Drag on Cylinder:1.142 Power Input:0.514 \n",
      "ind1: Amplitude: 0.3332806242351471 Frequency: 0.11458727831531074  // Drag on Cylinder:1.113 Power Input:3.129 \n",
      "ind2: Amplitude: 0.17708839859409423 Frequency: 0.3416295934584178  // Drag on Cylinder:1.138 Power Input:2.634 \n",
      "ind3: Amplitude: 0.670431027036948 Frequency: 0.11688332234670368  // Drag on Cylinder:1.049 Power Input:12.915 \n",
      "ind4: Amplitude: 2.4534258152108803 Frequency: 0.34717928862976866  // Drag on Cylinder:1.018 Power Input:513.724 \n",
      "ind5: Amplitude: 2.7863094035640303 Frequency: 0.32081435548174336  // Drag on Cylinder:0.935 Power Input:612.269 \n",
      "ind6: Amplitude: 0.10853878303896983 Frequency: 0.24440704209109237  // Drag on Cylinder:1.140 Power Input:0.708 \n",
      "ind7: Amplitude: 0.5809767992109119 Frequency: 0.12448914594076879  // Drag on Cylinder:1.075 Power Input:10.329 \n",
      "ind8: Amplitude: 2.8278188490201024 Frequency: 0.4496560923643783  // Drag on Cylinder:0.983 Power Input:883.921 \n",
      "ind9: Amplitude: 0.15442663226314166 Frequency: 0.20831190152971618  // Drag on Cylinder:1.142 Power Input:1.221 \n",
      "generation 9\n",
      "ind0: Amplitude: 0.10016566250512504 Frequency: 0.20831190152971618  // Drag on Cylinder:1.142 Power Input:0.514 \n",
      "ind1: Amplitude: 0.3332806242351471 Frequency: 0.11458727831531074  // Drag on Cylinder:1.113 Power Input:3.129 \n",
      "ind2: Amplitude: 0.17708839859409423 Frequency: 0.3416295934584178  // Drag on Cylinder:1.138 Power Input:2.634 \n",
      "ind3: Amplitude: 0.670431027036948 Frequency: 0.11688332234670368  // Drag on Cylinder:1.049 Power Input:12.915 \n",
      "ind4: Amplitude: 2.4534258152108803 Frequency: 0.34717928862976866  // Drag on Cylinder:1.018 Power Input:513.724 \n",
      "ind5: Amplitude: 2.7863094035640303 Frequency: 0.32081435548174336  // Drag on Cylinder:0.935 Power Input:612.269 \n",
      "ind6: Amplitude: 0.10853878303896983 Frequency: 0.24440704209109237  // Drag on Cylinder:1.140 Power Input:0.708 \n",
      "ind7: Amplitude: 0.5809767992109119 Frequency: 0.12448914594076879  // Drag on Cylinder:1.075 Power Input:10.329 \n",
      "ind8: Amplitude: 2.3430710363637868 Frequency: 0.24909099815195312  // Drag on Cylinder:1.025 Power Input:336.170 \n",
      "ind9: Amplitude: 2.495300693580425 Frequency: 0.32081435548174336  // Drag on Cylinder:1.020 Power Input:491.054 \n",
      "generation 10\n",
      "ind0: Amplitude: 2.7863094035640303 Frequency: 0.32081435548174336  // Drag on Cylinder:0.935 Power Input:612.269 \n",
      "ind1: Amplitude: 0.10016566250512504 Frequency: 0.20831190152971618  // Drag on Cylinder:1.142 Power Input:0.514 \n",
      "ind2: Amplitude: 2.3430710363637868 Frequency: 0.24909099815195312  // Drag on Cylinder:1.025 Power Input:336.170 \n",
      "ind3: Amplitude: 0.670431027036948 Frequency: 0.11688332234670368  // Drag on Cylinder:1.049 Power Input:12.915 \n",
      "ind4: Amplitude: 2.4534258152108803 Frequency: 0.34717928862976866  // Drag on Cylinder:1.018 Power Input:513.724 \n",
      "ind5: Amplitude: 0.5809767992109119 Frequency: 0.12448914594076879  // Drag on Cylinder:1.075 Power Input:10.329 \n",
      "ind6: Amplitude: 2.495300693580425 Frequency: 0.32081435548174336  // Drag on Cylinder:1.020 Power Input:491.054 \n",
      "ind7: Amplitude: 0.3332806242351471 Frequency: 0.11458727831531074  // Drag on Cylinder:1.113 Power Input:3.129 \n",
      "ind8: Amplitude: 0.17708839859409423 Frequency: 0.3416295934584178  // Drag on Cylinder:1.138 Power Input:2.634 \n",
      "ind9: Amplitude: 0.15252634586533365 Frequency: 0.30049798277327183  // Drag on Cylinder:1.140 Power Input:1.719 \n",
      "generation 11\n",
      "ind0: Amplitude: 2.7863094035640303 Frequency: 0.32081435548174336  // Drag on Cylinder:0.935 Power Input:612.269 \n",
      "ind1: Amplitude: 0.10016566250512504 Frequency: 0.20831190152971618  // Drag on Cylinder:1.142 Power Input:0.514 \n",
      "ind2: Amplitude: 0.3332806242351471 Frequency: 0.11458727831531074  // Drag on Cylinder:1.113 Power Input:3.129 \n",
      "ind3: Amplitude: 0.17708839859409423 Frequency: 0.3416295934584178  // Drag on Cylinder:1.138 Power Input:2.634 \n",
      "ind4: Amplitude: 0.15252634586533365 Frequency: 0.30049798277327183  // Drag on Cylinder:1.140 Power Input:1.719 \n",
      "ind5: Amplitude: 0.5809767992109119 Frequency: 0.11194711212175772  // Drag on Cylinder:0.998 Power Input:9.289 \n",
      "ind6: Amplitude: 0.10016566250512504 Frequency: 0.21740174474952753  // Drag on Cylinder:1.141 Power Input:0.536 \n",
      "ind7: Amplitude: 0.5809767992109119 Frequency: 0.12448914594076879  // Drag on Cylinder:1.075 Power Input:10.329 \n",
      "ind8: Amplitude: 2.4534258152108803 Frequency: 0.34717928862976866  // Drag on Cylinder:1.018 Power Input:513.724 \n",
      "ind9: Amplitude: 0.670431027036948 Frequency: 0.11688332234670368  // Drag on Cylinder:1.049 Power Input:12.915 \n",
      "generation 12\n",
      "ind0: Amplitude: 2.7863094035640303 Frequency: 0.32081435548174336  // Drag on Cylinder:0.935 Power Input:612.269 \n",
      "ind1: Amplitude: 0.10016566250512504 Frequency: 0.20831190152971618  // Drag on Cylinder:1.142 Power Input:0.514 \n",
      "ind2: Amplitude: 0.3332806242351471 Frequency: 0.11458727831531074  // Drag on Cylinder:1.113 Power Input:3.129 \n",
      "ind3: Amplitude: 0.17708839859409423 Frequency: 0.3416295934584178  // Drag on Cylinder:1.138 Power Input:2.634 \n",
      "ind4: Amplitude: 0.5809767992109119 Frequency: 0.11194711212175772  // Drag on Cylinder:0.998 Power Input:9.289 \n",
      "ind5: Amplitude: 0.10016566250512504 Frequency: 0.21740174474952753  // Drag on Cylinder:1.141 Power Input:0.536 \n",
      "ind6: Amplitude: 0.10016566250512504 Frequency: 0.4775966898905699  // Drag on Cylinder:1.139 Power Input:1.178 \n",
      "ind7: Amplitude: 0.10016566250512504 Frequency: 0.22741916381794672  // Drag on Cylinder:1.141 Power Input:0.561 \n",
      "ind8: Amplitude: 0.15252634586533365 Frequency: 0.30049798277327183  // Drag on Cylinder:1.140 Power Input:1.719 \n",
      "ind9: Amplitude: 2.7863094035640303 Frequency: 0.3633582586855653  // Drag on Cylinder:0.988 Power Input:693.463 \n"
     ]
    }
   ],
   "source": [
    "print('EVERY GENERATION')\n",
    "for gen in range(algorithm.n_gen):\n",
    "    print(f'generation {gen}')\n",
    "    var_g = algorithm.callback.data['var'][gen]\n",
    "    obj_g = algorithm.callback.data['obj'][gen]\n",
    "    for ind in range(len(var_g)):\n",
    "        var_i = var_g[ind]\n",
    "        obj_i = obj_g[ind]\n",
    "        print(f'ind{ind}: ', end='')\n",
    "        for n in range(len(var_i)):\n",
    "            print(f'{var_labels[n]}: {var_i[n]}', end=' ')\n",
    "        print(' // ', end='')\n",
    "        for n in range(len(obj_i)):\n",
    "            print(obj_labels[n] + ':' + '%.3f' % obj_i[n], end=' ')\n",
    "        print()"
   ]
  },
  {
   "cell_type": "markdown",
   "id": "5c235d9b",
   "metadata": {},
   "source": [
    "### Scatter Plots"
   ]
  },
  {
   "cell_type": "code",
   "execution_count": 8,
   "id": "7fc4efda",
   "metadata": {},
   "outputs": [],
   "source": [
    "from pymoo.visualization.scatter import Scatter"
   ]
  },
  {
   "cell_type": "code",
   "execution_count": 9,
   "id": "d3754f87",
   "metadata": {},
   "outputs": [
    {
     "data": {
      "text/plain": [
       "<pymoo.visualization.scatter.Scatter at 0x7f0064d83c50>"
      ]
     },
     "execution_count": 9,
     "metadata": {},
     "output_type": "execute_result"
    },
    {
     "data": {
      "image/png": "[encoded data removed]",
      "text/plain": [
       "<Figure size 576x432 with 1 Axes>"
      ]
     },
     "metadata": {
      "needs_background": "light"
     },
     "output_type": "display_data"
    }
   ],
   "source": [
    "# All design points\n",
    "if algorithm.n_gen < 15:\n",
    "    leg = True\n",
    "else:\n",
    "    leg = False\n",
    "plot = Scatter(title='Entire Design Space', legend=leg, labels=var_labels)\n",
    "for g in range(len(algorithm.callback.data['var'])):  # range(algorithm.n_gen)\n",
    "    plot.add(algorithm.callback.data['var'][g][:], label='GEN %i' % g)\n",
    "# if ps is not None:\n",
    "#     plot.add(ps, plot_type=\"line\", color=\"black\", alpha=0.7)\n",
    "# plot.add(ps, plot_type=\"line\", color=\"black\", alpha=0.7)\n",
    "plot.save(plotDir + '/entire_design_space.png')\n",
    "plot.show()"
   ]
  },
  {
   "cell_type": "code",
   "execution_count": 10,
   "id": "cfecb628",
   "metadata": {},
   "outputs": [
    {
     "data": {
      "text/plain": [
       "<pymoo.visualization.scatter.Scatter at 0x7f00644c8b70>"
      ]
     },
     "execution_count": 10,
     "metadata": {},
     "output_type": "execute_result"
    },
    {
     "data": {
      "image/png": "[encoded data removed]",
      "text/plain": [
       "<Figure size 576x432 with 1 Axes>"
      ]
     },
     "metadata": {
      "needs_background": "light"
     },
     "output_type": "display_data"
    }
   ],
   "source": [
    "# All objective points\n",
    "plot = Scatter(title='Entire Objective Space', legend=leg, labels=obj_labels)\n",
    "for g in range(len(algorithm.callback.data['var'])):\n",
    "    plot.add(algorithm.callback.data['obj'][g][:], label='GEN %i' % g)\n",
    "# if pf is not None:\n",
    "#     plot.add(pf, plot_type=\"line\", color=\"black\", alpha=0.7)\n",
    "plot.save(plotDir + '/entire_obj_space.png')\n",
    "plot.show()"
   ]
  },
  {
   "cell_type": "markdown",
   "id": "28067ac2",
   "metadata": {},
   "source": [
    "### Last 10 Generation of Parameter and Objective Spaces"
   ]
  },
  {
   "cell_type": "code",
   "execution_count": 11,
   "id": "e42a580f",
   "metadata": {},
   "outputs": [
    {
     "data": {
      "image/png": "[encoded data removed]",
      "text/plain": [
       "<Figure size 576x432 with 1 Axes>"
      ]
     },
     "metadata": {
      "needs_background": "light"
     },
     "output_type": "display_data"
    }
   ],
   "source": [
    "# Last 10 generations\n",
    "# last 10 gens. design points\n",
    "if algorithm.n_gen > 10:\n",
    "    #### Design Space ####\n",
    "    plot = Scatter(title='Last 10 Generations Design Space', legend=True, labels=var_labels)\n",
    "    for g in range(algorithm.n_gen-10, algorithm.n_gen):  # algorithm.n_gen == len(algorithm.callback.data['var'])\n",
    "        plot.add(algorithm.callback.data['var'][g][:], label='GEN %i' % g)\n",
    "#     if ps is not None:\n",
    "#         plot.add(ps, plot_type=\"line\", color=\"black\", alpha=0.7)\n",
    "    plot.save(plotDir + '/final_10_design_space.png')\n",
    "    ### Objective Space ####\n",
    "    # last 10 gens. objective points\n",
    "    plot = Scatter(title='Last 10 Generations Objective Space', legend=True, labels=obj_labels)\n",
    "    for g in range(len(algorithm.callback.data['obj'])-10, len(algorithm.callback.data['obj'])):  # range(algorithm.n_gen)\n",
    "        plot.add(algorithm.callback.data['obj'][g][:], label='GEN %i' % g)\n",
    "#     if pf is not None:\n",
    "#         plot.add(pf, plot_type=\"line\", color=\"black\", alpha=0.7)\n",
    "    plot.save(plotDir + '/final_10_obj_space.png')\n"
   ]
  },
  {
   "cell_type": "markdown",
   "id": "0bfba998",
   "metadata": {},
   "source": [
    "#### Decision Making "
   ]
  },
  {
   "cell_type": "code",
   "execution_count": 12,
   "id": "7842df57",
   "metadata": {},
   "outputs": [],
   "source": [
    "# if pf is not None:\n",
    "#     from pymoo.factory import get_decision_making\n",
    "\n",
    "#     dm = get_decision_making(\"high-tradeoff\")\n",
    "\n",
    "#     I = dm.do(pf)\n",
    "\n",
    "#     plot = Scatter(title='Pareto Front: High Tradeoff Points')\n",
    "#     plot.add(pf, alpha=0.2)\n",
    "#     plot.add(pf[I], color=\"red\", s=100)\n",
    "#     plot.save(plotDir + '/pf-high-tradeoff')"
   ]
  },
  {
   "cell_type": "markdown",
   "id": "264acb7f",
   "metadata": {},
   "source": [
    "### Running Metric"
   ]
  },
  {
   "cell_type": "code",
   "execution_count": 13,
   "id": "4dcceee8",
   "metadata": {},
   "outputs": [],
   "source": [
    "# from pymoo.util.running_metric import RunningMetric\n",
    "\n",
    "# running = RunningMetric(\n",
    "#                         delta_gen=5,\n",
    "#                         # n_plots=4,\n",
    "#                         only_if_n_plots=True,\n",
    "#                         key_press=False,\n",
    "#                         do_show=True)\n",
    "\n",
    "# running.notify(algorithm)"
   ]
  },
  {
   "cell_type": "code",
   "execution_count": null,
   "id": "ef1fe387",
   "metadata": {},
   "outputs": [],
   "source": [
    "\n"
   ]
  },
  {
   "cell_type": "code",
   "execution_count": null,
   "id": "d6d6efb6",
   "metadata": {},
   "outputs": [],
   "source": []
  }
 ],
 "metadata": {
  "kernelspec": {
   "display_name": "Python 3",
   "language": "python",
   "name": "python3"
  },
  "language_info": {
   "codemirror_mode": {
    "name": "ipython",
    "version": 3
   },
   "file_extension": ".py",
   "mimetype": "text/x-python",
   "name": "python",
   "nbconvert_exporter": "python",
   "pygments_lexer": "ipython3",
   "version": "3.7.0"
  }
 },
 "nbformat": 4,
 "nbformat_minor": 5
}
