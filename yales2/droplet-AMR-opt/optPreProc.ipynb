{
 "cells": [
  {
   "cell_type": "markdown",
   "id": "76343234",
   "metadata": {},
   "source": [
    "# Optimization Study: Pre-Processing"
   ]
  },
  {
   "cell_type": "code",
   "execution_count": 3,
   "id": "549a1043",
   "metadata": {
    "scrolled": true
   },
   "outputs": [
    {
     "name": "stdout",
     "output_type": "stream",
     "text": [
      "\n",
      "Compiled modules for significant speedup can not be used!\n",
      "https://pymoo.org/installation.html#installation\n",
      "\n",
      "To disable this warning:\n",
      "from pymoo.configuration import Configuration\n",
      "Configuration.show_compile_hint = False\n",
      "\n"
     ]
    }
   ],
   "source": [
    "%matplotlib inline\n",
    "import os \n",
    "import numpy as np\n",
    "import glob\n",
    "import matplotlib.pyplot as plt\n",
    "from IPython.display import Image, display\n",
    "\n",
    "from pymooCFD.setupOpt import dataDir, mapDir, plotDir, var_labels, obj_labels, studyDir\n",
    "from pymooCFD.util.handleData import loadCP\n"
   ]
  },
  {
   "cell_type": "markdown",
   "id": "8f9bdbcf",
   "metadata": {},
   "source": [
    "## Mesh Sensitivity Study"
   ]
  },
  {
   "cell_type": "markdown",
   "id": "4f680cd2",
   "metadata": {},
   "source": [
    "Run mesh study\n",
    "```python\n",
    "from pymooCFD.preProcOpt import meshStudy\n",
    "meshStudy()\n",
    "```"
   ]
  },
  {
   "cell_type": "code",
   "execution_count": 21,
   "id": "f5c3c430",
   "metadata": {},
   "outputs": [],
   "source": [
    "coor_1 = np.loadtxt(os.path.join(studyDir, 'meshSF-1', 'interp_drop_coor.txt'))\n",
    "coor_15 = np.loadtxt(os.path.join(studyDir, 'meshSF-1.5', 'interp_drop_coor.txt'))"
   ]
  },
  {
   "cell_type": "code",
   "execution_count": 4,
   "id": "45c6c27d",
   "metadata": {},
   "outputs": [
    {
     "name": "stdout",
     "output_type": "stream",
     "text": [
      "[[-0.0069098   0.019873  ]\n",
      " [-0.00689599  0.019596  ]\n",
      " [-0.00688217  0.019509  ]\n",
      " ...\n",
      " [ 0.00686367  0.019524  ]\n",
      " [ 0.00687749  0.020036  ]\n",
      " [ 0.0068913   0.019873  ]]\n",
      "1000\n"
     ]
    }
   ],
   "source": [
    "print(coor_sf_1)\n",
    "print(len(coor_sf_1))"
   ]
  },
  {
   "cell_type": "code",
   "execution_count": 10,
   "id": "b41da0e5",
   "metadata": {},
   "outputs": [],
   "source": [
    "x_coor_1 = coor_1[:,0]\n",
    "y_coor_1 = coor_1[:,1]\n",
    "x_coor_15 = coor_15[:,0]\n",
    "y_coor_15 = coor_15[:,1]"
   ]
  },
  {
   "cell_type": "code",
   "execution_count": 12,
   "id": "cc082305",
   "metadata": {
    "scrolled": false
   },
   "outputs": [
    {
     "data": {
      "text/plain": [
       "<matplotlib.collections.PathCollection at 0x7f05604a8dc0>"
      ]
     },
     "execution_count": 12,
     "metadata": {},
     "output_type": "execute_result"
    },
    {
     "data": {
      "image/png": "[encoded data removed]",
      "text/plain": [
       "<Figure size 432x288 with 1 Axes>"
      ]
     },
     "metadata": {
      "needs_background": "light"
     },
     "output_type": "display_data"
    }
   ],
   "source": [
    "size = 5\n",
    "plt.scatter(x_coor_1, y_coor_1, s=size)\n",
    "plt.scatter(x_coor_15, y_coor_15, s=size)"
   ]
  },
  {
   "cell_type": "markdown",
   "id": "9dc9505d",
   "metadata": {},
   "source": [
    "#### Using Traveling Salesman Problem Aproach to sort points"
   ]
  },
  {
   "cell_type": "code",
   "execution_count": null,
   "id": "cafd00ce",
   "metadata": {},
   "outputs": [],
   "source": []
  },
  {
   "cell_type": "code",
   "execution_count": null,
   "id": "17cede1a",
   "metadata": {},
   "outputs": [],
   "source": []
  },
  {
   "cell_type": "markdown",
   "id": "a3b05259",
   "metadata": {},
   "source": [
    "### STP does not work on this many points "
   ]
  },
  {
   "cell_type": "code",
   "execution_count": 31,
   "id": "204c364c",
   "metadata": {},
   "outputs": [
    {
     "data": {
      "image/png": "[encoded data removed]",
      "text/plain": [
       "<Figure size 432x288 with 1 Axes>"
      ]
     },
     "metadata": {
      "needs_background": "light"
     },
     "output_type": "display_data"
    },
    {
     "ename": "TypeError",
     "evalue": "solve_tsp_dynamic_programming() got an unexpected keyword argument 'x0'",
     "output_type": "error",
     "traceback": [
      "\u001b[0;31m---------------------------------------------------------------------------\u001b[0m",
      "\u001b[0;31mTypeError\u001b[0m                                 Traceback (most recent call last)",
      "\u001b[0;32m/tmp/ipykernel_193676/2798982187.py\u001b[0m in \u001b[0;36m<module>\u001b[0;34m\u001b[0m\n\u001b[1;32m     13\u001b[0m \u001b[0mplt\u001b[0m\u001b[0;34m.\u001b[0m\u001b[0mshow\u001b[0m\u001b[0;34m(\u001b[0m\u001b[0;34m)\u001b[0m\u001b[0;34m\u001b[0m\u001b[0;34m\u001b[0m\u001b[0m\n\u001b[1;32m     14\u001b[0m \u001b[0mdistance_matrix\u001b[0m \u001b[0;34m=\u001b[0m \u001b[0mgreat_circle_distance_matrix\u001b[0m\u001b[0;34m(\u001b[0m\u001b[0msources\u001b[0m\u001b[0;34m)\u001b[0m\u001b[0;34m\u001b[0m\u001b[0;34m\u001b[0m\u001b[0m\n\u001b[0;32m---> 15\u001b[0;31m \u001b[0mpermutation\u001b[0m\u001b[0;34m,\u001b[0m \u001b[0mdistance\u001b[0m \u001b[0;34m=\u001b[0m \u001b[0msolve_tsp_dynamic_programming\u001b[0m\u001b[0;34m(\u001b[0m\u001b[0mdistance_matrix\u001b[0m\u001b[0;34m,\u001b[0m \u001b[0mx0\u001b[0m\u001b[0;34m=\u001b[0m\u001b[0msources\u001b[0m\u001b[0;34m[\u001b[0m\u001b[0;36m0\u001b[0m\u001b[0;34m]\u001b[0m\u001b[0;34m)\u001b[0m\u001b[0;34m\u001b[0m\u001b[0;34m\u001b[0m\u001b[0m\n\u001b[0m\u001b[1;32m     16\u001b[0m \u001b[0mprint\u001b[0m\u001b[0;34m(\u001b[0m\u001b[0mpermutation\u001b[0m\u001b[0;34m,\u001b[0m \u001b[0mdistance\u001b[0m\u001b[0;34m)\u001b[0m\u001b[0;34m\u001b[0m\u001b[0;34m\u001b[0m\u001b[0m\n\u001b[1;32m     17\u001b[0m \u001b[0mprint\u001b[0m\u001b[0;34m(\u001b[0m\u001b[0msources\u001b[0m\u001b[0;34m[\u001b[0m\u001b[0mpermutation\u001b[0m\u001b[0;34m]\u001b[0m\u001b[0;34m)\u001b[0m\u001b[0;34m\u001b[0m\u001b[0;34m\u001b[0m\u001b[0m\n",
      "\u001b[0;31mTypeError\u001b[0m: solve_tsp_dynamic_programming() got an unexpected keyword argument 'x0'"
     ]
    }
   ],
   "source": [
    "# test lib\n",
    "import numpy as np\n",
    "from python_tsp.exact import solve_tsp_dynamic_programming\n",
    "from python_tsp.distances import great_circle_distance_matrix\n",
    "\n",
    "sources = np.array([\n",
    "    [0, 1],\n",
    "    [3, 3],\n",
    "    [2, 3],\n",
    "    [0, 0]\n",
    "])\n",
    "plt.scatter(sources[:,0], sources[:,1])\n",
    "plt.show()\n",
    "distance_matrix = great_circle_distance_matrix(sources)\n",
    "permutation, distance = solve_tsp_dynamic_programming(distance_matrix)\n",
    "print(permutation, distance)\n",
    "print(sources[permutation])\n",
    "plt.plot(sources[permutation][:,0], sources[permutation][:,1])"
   ]
  },
  {
   "cell_type": "code",
   "execution_count": 32,
   "id": "27a3ef13",
   "metadata": {},
   "outputs": [
    {
     "data": {
      "image/png": "[encoded data removed]",
      "text/plain": [
       "<Figure size 432x288 with 1 Axes>"
      ]
     },
     "metadata": {
      "needs_background": "light"
     },
     "output_type": "display_data"
    },
    {
     "ename": "ValueError",
     "evalue": "The truth value of an array with more than one element is ambiguous. Use a.any() or a.all()",
     "output_type": "error",
     "traceback": [
      "\u001b[0;31m---------------------------------------------------------------------------\u001b[0m",
      "\u001b[0;31mValueError\u001b[0m                                Traceback (most recent call last)",
      "\u001b[0;32m<timed exec>\u001b[0m in \u001b[0;36m<module>\u001b[0;34m\u001b[0m\n",
      "\u001b[0;32m~/anaconda3/envs/pymooCFD-v2/lib/python3.9/site-packages/python_tsp/heuristics/local_search.py\u001b[0m in \u001b[0;36msolve_tsp_local_search\u001b[0;34m(distance_matrix, x0, perturbation_scheme, max_processing_time, log_file)\u001b[0m\n\u001b[1;32m     64\u001b[0m         \u001b[0mimprovement\u001b[0m\u001b[0;34m.\u001b[0m \u001b[0mReturn\u001b[0m\u001b[0;31m \u001b[0m\u001b[0;31m`\u001b[0m\u001b[0mx\u001b[0m\u001b[0;31m`\u001b[0m\u001b[0;34m,\u001b[0m\u001b[0;31m \u001b[0m\u001b[0;31m`\u001b[0m\u001b[0mfx\u001b[0m\u001b[0;31m`\u001b[0m \u001b[0;32mas\u001b[0m \u001b[0msolution\u001b[0m\u001b[0;34m.\u001b[0m\u001b[0;34m\u001b[0m\u001b[0;34m\u001b[0m\u001b[0m\n\u001b[1;32m     65\u001b[0m     \"\"\"\n\u001b[0;32m---> 66\u001b[0;31m     \u001b[0mx\u001b[0m\u001b[0;34m,\u001b[0m \u001b[0mfx\u001b[0m \u001b[0;34m=\u001b[0m \u001b[0msetup\u001b[0m\u001b[0;34m(\u001b[0m\u001b[0mdistance_matrix\u001b[0m\u001b[0;34m,\u001b[0m \u001b[0mx0\u001b[0m\u001b[0;34m)\u001b[0m\u001b[0;34m\u001b[0m\u001b[0;34m\u001b[0m\u001b[0m\n\u001b[0m\u001b[1;32m     67\u001b[0m     \u001b[0mmax_processing_time\u001b[0m \u001b[0;34m=\u001b[0m \u001b[0mmax_processing_time\u001b[0m \u001b[0;32mor\u001b[0m \u001b[0mnp\u001b[0m\u001b[0;34m.\u001b[0m\u001b[0minf\u001b[0m\u001b[0;34m\u001b[0m\u001b[0;34m\u001b[0m\u001b[0m\n\u001b[1;32m     68\u001b[0m     \u001b[0;32mif\u001b[0m \u001b[0mlog_file\u001b[0m\u001b[0;34m:\u001b[0m\u001b[0;34m\u001b[0m\u001b[0;34m\u001b[0m\u001b[0m\n",
      "\u001b[0;32m~/anaconda3/envs/pymooCFD-v2/lib/python3.9/site-packages/python_tsp/heuristics/local_search.py\u001b[0m in \u001b[0;36msetup\u001b[0;34m(distance_matrix, x0)\u001b[0m\n\u001b[1;32m    119\u001b[0m     \"\"\"\n\u001b[1;32m    120\u001b[0m \u001b[0;34m\u001b[0m\u001b[0m\n\u001b[0;32m--> 121\u001b[0;31m     \u001b[0;32mif\u001b[0m \u001b[0;32mnot\u001b[0m \u001b[0mx0\u001b[0m\u001b[0;34m:\u001b[0m\u001b[0;34m\u001b[0m\u001b[0;34m\u001b[0m\u001b[0m\n\u001b[0m\u001b[1;32m    122\u001b[0m         \u001b[0mn\u001b[0m \u001b[0;34m=\u001b[0m \u001b[0mdistance_matrix\u001b[0m\u001b[0;34m.\u001b[0m\u001b[0mshape\u001b[0m\u001b[0;34m[\u001b[0m\u001b[0;36m0\u001b[0m\u001b[0;34m]\u001b[0m  \u001b[0;31m# number of nodes\u001b[0m\u001b[0;34m\u001b[0m\u001b[0;34m\u001b[0m\u001b[0m\n\u001b[1;32m    123\u001b[0m         \u001b[0mx0\u001b[0m \u001b[0;34m=\u001b[0m \u001b[0;34m[\u001b[0m\u001b[0;36m0\u001b[0m\u001b[0;34m]\u001b[0m \u001b[0;34m+\u001b[0m \u001b[0msample\u001b[0m\u001b[0;34m(\u001b[0m\u001b[0mrange\u001b[0m\u001b[0;34m(\u001b[0m\u001b[0;36m1\u001b[0m\u001b[0;34m,\u001b[0m \u001b[0mn\u001b[0m\u001b[0;34m)\u001b[0m\u001b[0;34m,\u001b[0m \u001b[0mn\u001b[0m \u001b[0;34m-\u001b[0m \u001b[0;36m1\u001b[0m\u001b[0;34m)\u001b[0m  \u001b[0;31m# ensure 0 is the first node\u001b[0m\u001b[0;34m\u001b[0m\u001b[0;34m\u001b[0m\u001b[0m\n",
      "\u001b[0;31mValueError\u001b[0m: The truth value of an array with more than one element is ambiguous. Use a.any() or a.all()"
     ]
    }
   ],
   "source": [
    "%%time\n",
    "# test lib\n",
    "import numpy as np\n",
    "# from python_tsp.exact import solve_tsp_dynamic_programming\n",
    "from python_tsp.heuristics import solve_tsp_local_search\n",
    "from python_tsp.distances import great_circle_distance_matrix\n",
    "\n",
    "sources = coor_1[::75]\n",
    "plt.scatter(sources[:,0], sources[:,1])\n",
    "plt.show()\n",
    "distance_matrix = great_circle_distance_matrix(sources)\n",
    "permutation, distance = solve_tsp_local_search(distance_matrix)\n",
    "print(permutation, distance)\n",
    "print(sources[permutation])\n",
    "# plt.plot(sources[permutation][:,0], sources[permutation][:,1])\n",
    "plt.plot(sources[permutation])"
   ]
  },
  {
   "cell_type": "code",
   "execution_count": 26,
   "id": "88639d10",
   "metadata": {},
   "outputs": [
    {
     "name": "stdout",
     "output_type": "stream",
     "text": [
      "-0.0069098\n",
      "[-0.0069098, 0.019873]\n",
      "[[-0.004542, 0.017261], [-0.0045274, 0.017258], [-0.0045729, 0.017275], [-0.0044659, 0.017237], [-0.0044279, 0.017228], [-0.0043855, 0.017218], [-0.0043284, 0.017201], [-0.0043064, 0.017197], [-0.0048322, 0.017369], [-0.0048259, 0.017367], [-0.0048421, 0.017375], [-0.004762, 0.017339], [-0.0047264, 0.017329], [-0.0046847, 0.017317], [-0.0046269, 0.017296], [-0.0046098, 0.017292], [-0.0050428, 0.017457], [-0.0050249, 0.017452], [-0.0050693, 0.017475], [-0.0049714, 0.017429], [-0.0049254, 0.017411], [-0.0048971, 0.017404], [-0.0052431, 0.017556], [-0.0052239, 0.01755], [-0.0052676, 0.017575], [-0.0051735, 0.017526], [-0.0051244, 0.017503], [-0.0051027, 0.017497], [-0.0054334, 0.017664], [-0.0054229, 0.017661], [-0.005444, 0.017675], [-0.0053689, 0.017629], [-0.0053234, 0.017607], [-0.0052997, 0.017599], [-0.0055571, 0.01774], [-0.0055224, 0.017724], [-0.0056001, 0.017775], [-0.0054888, 0.017709], [-0.0056724, 0.017824], [-0.0056219, 0.01779], [-0.0057214, 0.017857], [-0.0056106, 0.017786], [-0.0057341, 0.017862], [-0.0057444, 0.017875], [-0.0058486, 0.017947], [-0.0058209, 0.017932], [-0.0058731, 0.017975], [-0.0057845, 0.017911], [-0.0059571, 0.018038], [-0.0059204, 0.018014], [-0.0059911, 0.018074], [-0.0058949, 0.018], [-0.0060616, 0.018133], [-0.0060199, 0.0181], [-0.0061, 0.018174], [-0.006003, 0.018091], [-0.0061627, 0.018231], [-0.0061194, 0.018193], [-0.0062001, 0.018274], [-0.0061074, 0.018186], [-0.0062605, 0.018332], [-0.0062189, 0.018294], [-0.006292, 0.018374], [-0.0062068, 0.018286], [-0.0063546, 0.018438], [-0.0063184, 0.018404], [-0.0063772, 0.018474], [-0.0063012, 0.018392], [-0.0064439, 0.018548], [-0.0064179, 0.018525], [-0.0064565, 0.018574], [-0.0063914, 0.018501], [-0.0065251, 0.018666], [-0.0065174, 0.01866], [-0.0065278, 0.018674], [-0.0064789, 0.018613], [-0.0065636, 0.018728], [-0.0065893, 0.018774], [-0.0066419, 0.018849], [-0.0066169, 0.018818], [-0.0065968, 0.018794], [-0.0066508, 0.018874], [-0.0066716, 0.018919], [-0.0066998, 0.018974], [-0.0067423, 0.019048], [-0.0067164, 0.019005], [-0.0067497, 0.019074], [-0.0068234, 0.019266], [-0.0068159, 0.019251], [-0.0068248, 0.019273], [-0.0067034, 0.018987], [-0.0067677, 0.019122], [-0.0067866, 0.019173], [-0.0067922, 0.019197], [-0.0068476, 0.019341], [-0.0068538, 0.019373], [-0.0068647, 0.019424], [-0.0068744, 0.019473], [-0.0068793, 0.019509], [-0.0068907, 0.019573], [-0.0068926, 0.019596], [-0.0069029, 0.019673], [-0.0069033, 0.019685], [-0.0069096, 0.019773], [-0.0069096, 0.019779], [-0.0069098, 0.019873], [-0.0069095, 0.019879], [-0.0069033, 0.019973], [-0.0069022, 0.019986], [-0.0068914, 0.020073], [-0.0068876, 0.020101], [-0.0068754, 0.020173], [-0.0068649, 0.020223], [-0.0068552, 0.020272], [-0.0068301, 0.020358], [-0.006827, 0.020372], [-0.0068159, 0.020401], [-0.0067889, 0.020472], [-0.0067736, 0.020515], [-0.0067525, 0.020572], [-0.0067164, 0.020648], [-0.0067039, 0.020672], [-0.0066931, 0.020696], [-0.0066552, 0.020772], [-0.0066169, 0.020837], [-0.0065952, 0.020872], [-0.0065631, 0.020926], [-0.0051172, 0.022371], [-0.0051244, 0.022365], [-0.0050249, 0.022437], [-0.0049793, 0.02247], [-0.0049254, 0.02251], [-0.0048367, 0.02257], [-0.0048259, 0.022578], [-0.0047264, 0.022643], [-0.0048046, 0.022592], [-0.0046867, 0.02267], [-0.0042289, 0.022953], [-0.0042662, 0.022933], [-0.004202, 0.02297], [-0.0040299, 0.023068], [-0.0040341, 0.023066], [-0.0040264, 0.02307], [-0.0035323, 0.023325], [-0.0036172, 0.023284], [-0.0034401, 0.02337], [-0.0065362, 0.020972], [-0.0065174, 0.020998], [-0.0064665, 0.021072], [-0.0064179, 0.021138], [-0.0063915, 0.021172], [-0.0063184, 0.021266], [-0.0063138, 0.021272], [-0.0062918, 0.021298], [-0.0062314, 0.021371], [-0.0062189, 0.021385], [-0.0061422, 0.021471], [-0.0061194, 0.021496], [-0.0060477, 0.021571], [-0.0060199, 0.0216], [-0.0059483, 0.021671], [-0.0059204, 0.021699], [-0.0058443, 0.021771], [-0.0058209, 0.021793], [-0.0057353, 0.021871], [-0.0057214, 0.021884], [-0.0056219, 0.02197], [-0.0056303, 0.021962], [-0.0056205, 0.021971], [-0.0055224, 0.022053], [-0.005501, 0.022071], [-0.0054229, 0.022134], [-0.0053782, 0.022171], [-0.0053234, 0.022215], [-0.0052513, 0.022271], [-0.0052239, 0.022293], [-0.0051441, 0.022351], [-0.0028358, 0.023626], [-0.0029048, 0.0236], [-0.0027363, 0.023663], [-0.0027455, 0.02366], [-0.0027213, 0.023669], [-0.0026368, 0.023702], [-0.0025373, 0.023733], [-0.00259, 0.023716], [-0.0024378, 0.023768], [-0.0024399, 0.023767], [-0.0024338, 0.023769], [-0.0023383, 0.023802], [-0.0022388, 0.023829], [-0.0022941, 0.023814], [-0.0021393, 0.023858], [-0.0021537, 0.023855], [-0.0021054, 0.023869], [-0.0020398, 0.02389], [-0.0019403, 0.023915], [-0.0020137, 0.023895], [-0.0018408, 0.023937], [-0.0018813, 0.023928], [-0.0017413, 0.023962], [-0.0017502, 0.02396], [-0.0017143, 0.023969], [-0.0016418, 0.023988], [-0.0015423, 0.024008], [-0.0016196, 0.023991], [-0.0014428, 0.024026], [-0.0014955, 0.024016], [-0.0013433, 0.024042], [-0.0013743, 0.024038], [-0.0012438, 0.02406], [-0.0012535, 0.024059], [-0.0011989, 0.024069], [-0.0011443, 0.024079], [-0.0010448, 0.024095], [-0.0011329, 0.02408], [-0.00094527, 0.024107], [-0.0010166, 0.024097], [-0.00084577, 0.024117], [-0.00090353, 0.024111], [-0.00074627, 0.024126], [-0.00079273, 0.024122], [-0.0046269, 0.022711], [-0.0045327, 0.02277], [-0.0045274, 0.022774], [-0.0044279, 0.022834], [-0.0045189, 0.022779], [-0.0043711, 0.02287], [-0.0043284, 0.022898], [-0.0041294, 0.023013], [-0.0039303, 0.023122], [-0.003842, 0.02317], [-0.0038308, 0.023176], [-0.0037313, 0.023226], [-0.0038188, 0.023182], [-0.003647, 0.02327], [-0.0036318, 0.023278], [-0.0034328, 0.023374], [-0.0033333, 0.023419], [-0.0034265, 0.023376], [-0.0032338, 0.023462], [-0.003246, 0.023457], [-0.0032185, 0.02347], [-0.0031343, 0.023507], [-0.0030348, 0.023545], [-0.0030727, 0.023531], [-0.002981, 0.023569], [-0.0029353, 0.02359], [0.0055224, 0.017746], [0.0055649, 0.017775], [0.0056219, 0.017814], [0.0057102, 0.017875], [0.0057214, 0.017883], [0.0057514, 0.017905], [0.0058209, 0.017955], [0.0058444, 0.017975], [0.0059204, 0.018036], [0.0059647, 0.018074], [0.0060199, 0.018123], [0.006075, 0.018174], [0.0061194, 0.018217], [0.0061766, 0.018274], [0.0062189, 0.018318], [0.0062705, 0.018374], [0.0063184, 0.018429], [0.0063572, 0.018474], [0.0064179, 0.018551], [0.0064366, 0.018574], [0.0064788, 0.018635], [0.0065055, 0.018674], [0.0065174, 0.018691], [0.0065713, 0.018774], [0.0066169, 0.018849], [0.0066323, 0.018874], [0.006646, 0.018903], [0.0066816, 0.018974], [0.0067164, 0.019044], [0.0067316, 0.019074], [0.0067395, 0.019097], [0.0067699, 0.019173], [0.0067984, 0.019256], [0.0068035, 0.019273], [0.0068159, 0.01931], [0.0068366, 0.019373], [0.0068411, 0.019399], [0.0068586, 0.019473], [0.0068664, 0.019524], [0.0068742, 0.019573], [0.0068818, 0.019639], [0.0068851, 0.019673], [0.0068898, 0.019747], [0.006891, 0.019773], [0.0068912, 0.019849], [0.0068913, 0.019873], [0.0068872, 0.019944], [0.006886, 0.019973], [0.0068789, 0.020036], [0.0068756, 0.020073], [0.0068677, 0.020125], [0.0068604, 0.020173], [0.0068539, 0.020211], [0.0068388, 0.020272], [0.0068355, 0.020292], [0.0068159, 0.020344], [0.0068075, 0.020364], [0.0068061, 0.020372], [0.0067812, 0.020437], [0.0067719, 0.020472], [0.0067585, 0.020515], [0.0067338, 0.020572], [0.0067164, 0.020606], [0.0066915, 0.020647], [0.0066837, 0.020672], [0.0067304, 0.020586], [0.0066632, 0.020719], [0.0066349, 0.020772], [0.0066169, 0.020801], [0.0065869, 0.020842], [0.0065745, 0.020872], [0.0066307, 0.020786], [0.0065174, 0.020963], [0.0065128, 0.020967], [0.0065111, 0.020972], [0.006556, 0.020911], [0.0064725, 0.021027], [0.0034328, 0.023364], [0.0034281, 0.023365], [0.0034218, 0.02337], [0.0064446, 0.021072], [0.0064179, 0.021107], [0.0063861, 0.02114], [0.0063688, 0.021172], [0.0064367, 0.021091], [0.0063184, 0.021235], [0.0062982, 0.021251], [0.0062881, 0.021272], [0.0063508, 0.021204], [0.0062189, 0.021354], [0.0062086, 0.021361], [0.0062036, 0.021371], [0.0062599, 0.021313], [0.0061194, 0.021466], [0.0061163, 0.021468], [0.0061148, 0.021471], [0.0061657, 0.021418], [0.0060693, 0.021521], [0.0060208, 0.021571], [0.0060199, 0.021572], [0.0059707, 0.021622], [0.0059214, 0.021671], [0.0060205, 0.021572], [0.0058209, 0.021767], [0.0058182, 0.021768], [0.0058166, 0.021771], [0.0059204, 0.021672], [0.0058703, 0.021721], [0.0059211, 0.021672], [0.0057682, 0.021818], [0.0049921, 0.022438], [0.0049564, 0.02247], [0.0048259, 0.02256], [0.0048186, 0.022563], [0.0048123, 0.02257], [0.0049254, 0.022494], [0.0048786, 0.022523], [0.0049419, 0.022487], [0.0047264, 0.022628], [0.0046976, 0.022641], [0.0046651, 0.02267], [0.0047645, 0.022609], [0.0045274, 0.022758], [0.0045184, 0.022761], [0.0045098, 0.02277], [0.0046269, 0.022697], [0.0045806, 0.022724], [0.004646, 0.02269], [0.0044279, 0.022822], [0.0043946, 0.022837], [0.0043506, 0.02287], [0.0044633, 0.022806], [0.0042289, 0.022941], [0.0042075, 0.022949], [0.0041821, 0.02297], [0.0043284, 0.022885], [0.0042753, 0.022917], [0.0043394, 0.022881], [0.0057214, 0.021858], [0.0057126, 0.021862], [0.0057071, 0.021871], [0.0056219, 0.021946], [0.0056053, 0.021954], [0.0055935, 0.021971], [0.0056645, 0.021914], [0.0055224, 0.022032], [0.005497, 0.022045], [0.005476, 0.022071], [0.005559, 0.022008], [0.0054229, 0.022115], [0.0053883, 0.022136], [0.0053542, 0.022171], [0.0054514, 0.022099], [0.0053234, 0.022196], [0.0052793, 0.022226], [0.005226, 0.022271], [0.0053407, 0.022188], [0.0051244, 0.022346], [0.0051072, 0.022353], [0.0050924, 0.022371], [0.0052239, 0.022272], [0.0051695, 0.022316], [0.0052251, 0.022272], [0.0050249, 0.022421], [0.0050578, 0.022404], [0.00054726, 0.024141], [0.00052082, 0.024142], [0.00064677, 0.024134], [0.00061359, 0.024136], [0.00074627, 0.024125], [0.00070581, 0.024128], [0.00084577, 0.024116], [0.00079746, 0.02412], [0.00094527, 0.024105], [0.00088839, 0.024112], [0.0010448, 0.024093], [0.00097821, 0.024102], [0.0021259, 0.023856], [0.002091, 0.023869], [0.0017413, 0.023958], [0.0017316, 0.023959], [0.0017002, 0.023969], [0.0018408, 0.023934], [0.0018108, 0.023939], [0.0019403, 0.023911], [0.0018931, 0.023922], [0.0020398, 0.023886], [0.0019755, 0.023905], [0.002054, 0.023883], [0.0012438, 0.024058], [0.0012337, 0.024059], [0.0011855, 0.024069], [0.0013433, 0.02404], [0.0013175, 0.024043], [0.0014428, 0.024023], [0.001403, 0.024029], [0.0015423, 0.024005], [0.0014889, 0.024015], [0.0016418, 0.023984], [0.0015738, 0.024001], [0.0016553, 0.023983], [0.0011443, 0.024077], [0.0010663, 0.024091], [0.0011515, 0.024076], [0.0032338, 0.023454], [0.0032212, 0.023457], [0.0032016, 0.02347], [0.0030348, 0.023539], [0.0030107, 0.023545], [0.002965, 0.023569], [0.0031343, 0.023501], [0.0030849, 0.02352], [0.0031588, 0.023494], [0.0027363, 0.023656], [0.0027256, 0.023659], [0.0027056, 0.023669], [0.0028358, 0.02362], [0.0027979, 0.023631], [0.0029353, 0.023583], [0.0028749, 0.023609], [0.0029465, 0.023581], [0.0024378, 0.023762], [0.0024315, 0.023763], [0.0024184, 0.023769], [0.0025373, 0.023728], [0.0025045, 0.023736], [0.0026368, 0.023697], [0.0025828, 0.023715], [0.002659, 0.023692], [0.0021393, 0.023853], [0.0022388, 0.023825], [0.002203, 0.023833], [0.0023383, 0.023797], [0.0022833, 0.023814], [0.0023616, 0.023793], [-0.00064677, 0.024135], [-0.00068354, 0.024132], [-0.00054726, 0.024142], [-0.00057568, 0.02414], [-0.00044776, 0.024149], [-0.00046905, 0.024148], [-0.00034826, 0.024154], [-0.00036367, 0.024153], [-0.00024876, 0.024158], [-0.00025966, 0.024158], [-0.00014925, 0.024161], [-0.0001571, 0.024161], [-4.9751e-05, 0.024163], [-5.6087e-05, 0.024163], [4.9751e-05, 0.024163], [4.3363e-05, 0.024163], [0.00014925, 0.024161], [0.0001413, 0.024161], [0.00024876, 0.024158], [0.00023782, 0.024158], [0.00034826, 0.024153], [0.00033312, 0.024154], [0.00044776, 0.024148], [0.00042738, 0.024148], [0.0040299, 0.023055], [0.0040188, 0.023059], [0.0040062, 0.02307], [0.0041294, 0.023002], [0.0040842, 0.023025], [0.004153, 0.022994], [0.0038308, 0.023165], [0.0038269, 0.023166], [0.0038223, 0.02317], [0.0039303, 0.023113], [0.0038905, 0.02313], [0.0039614, 0.023101], [0.0036318, 0.023268], [0.0036302, 0.023268], [0.0036282, 0.02327], [0.0037313, 0.023218], [0.0036939, 0.023232], [0.0037661, 0.023205], [0.0035323, 0.023317], [0.0034942, 0.023331], [0.0035674, 0.023305], [0.0033333, 0.023412], [0.0032912, 0.023427], [0.0033652, 0.023402], [0.00051752, 0.016946], [0.00054726, 0.016946], [0.00061668, 0.016945], [0.00064677, 0.016945], [0.00071578, 0.016945], [0.00074627, 0.016945], [0.00081483, 0.016944], [0.00084577, 0.016944], [0.00091386, 0.016944], [0.00094527, 0.016944], [0.0010129, 0.016943], [0.0010448, 0.016943], [0.0011119, 0.016943], [0.0011443, 0.016943], [0.001211, 0.016943], [0.0012438, 0.016942], [0.0013102, 0.016942], [0.0013433, 0.016942], [0.0014094, 0.016942], [0.0014428, 0.016942], [0.0015088, 0.016942], [0.0015423, 0.016942], [0.0016083, 0.016942], [0.0016418, 0.016942], [0.0017081, 0.016942], [0.0017413, 0.016942], [0.0018082, 0.016943], [0.0018408, 0.016943], [0.0019085, 0.016944], [0.0019403, 0.016944], [0.0020092, 0.016945], [0.0020398, 0.016945], [0.0021104, 0.016946], [0.0021393, 0.016947], [0.002212, 0.016949], [0.0022388, 0.016949], [0.0023143, 0.016951], [0.0023383, 0.016952], [0.0024173, 0.016955], [0.0024378, 0.016955], [0.0025212, 0.016959], [0.0025373, 0.01696], [0.0026262, 0.016965], [0.0026368, 0.016965], [0.0027325, 0.016972], [0.0027363, 0.016972], [0.0027824, 0.016975], [0.0028358, 0.01698], [0.0028403, 0.01698], [0.0029353, 0.016988], [0.002949, 0.016989], [0.0030348, 0.016997], [0.0030582, 0.016999], [0.0031343, 0.017006], [0.003168, 0.017009], [0.0032338, 0.017016], [0.0032788, 0.017021], [0.0033333, 0.017026], [0.0033909, 0.017033], [0.0034328, 0.017038], [0.0035054, 0.017048], [0.0035323, 0.017051], [0.0036236, 0.017067], [0.0036318, 0.017068], [0.0036677, 0.017075], [0.0037313, 0.017088], [0.0037462, 0.01709], [0.0038308, 0.017107], [0.0038688, 0.017113], [0.0039303, 0.017125], [0.0039929, 0.017138], [0.0040299, 0.017145], [0.0041226, 0.017169], [0.0041294, 0.01717], [0.0041476, 0.017175], [0.0042289, 0.017199], [0.0042588, 0.017205], [0.0043284, 0.017224], [0.0043958, 0.017243], [0.0044279, 0.017251], [0.0044974, 0.017275], [0.0045274, 0.017286], [0.0045427, 0.017291], [0.0046269, 0.017319], [0.004694, 0.017343], [0.0047264, 0.017353], [0.0047789, 0.017375], [0.0048259, 0.017396], [0.0048578, 0.017407], [0.0049254, 0.017434], [0.0050161, 0.017475], [0.0050249, 0.01748], [0.0050324, 0.017483], [0.0051244, 0.017526], [0.0052217, 0.017575], [0.0052239, 0.017576], [0.0052262, 0.017577], [0.0053234, 0.017629], [0.0054021, 0.017675], [0.0054229, 0.017688], [0.0054533, 0.017705], [-0.0037437, 0.017063], [-0.0037313, 0.017062], [-0.0037957, 0.017075], [-0.0036591, 0.017048], [-0.0036318, 0.017045], [-0.0035717, 0.017036], [-0.0035323, 0.017031], [-0.0042327, 0.017171], [-0.0042289, 0.017171], [-0.0042421, 0.017175], [-0.0041558, 0.017149], [-0.0041294, 0.017144], [-0.0040733, 0.017132], [-0.0040299, 0.017123], [-0.003989, 0.017116], [-0.0039303, 0.017104], [-0.0039053, 0.017101], [-0.0038308, 0.017083], [-0.0038239, 0.017082], [-0.0029431, 0.016968], [-0.0029353, 0.016967], [-0.0030232, 0.016975], [-0.0028507, 0.01696], [-0.0028358, 0.01696], [-0.0027571, 0.016955], [-0.0027363, 0.016954], [-0.0026623, 0.01695], [-0.0026368, 0.016949], [-0.0025668, 0.016946], [-0.0025373, 0.016945], [-0.0024705, 0.016943], [-0.0024378, 0.016942], [-0.0023735, 0.01694], [-0.0023383, 0.016939], [-0.0022761, 0.016938], [-0.0022388, 0.016937], [-0.0021781, 0.016937], [-0.0021393, 0.016936], [-0.0020797, 0.016935], [-0.0020398, 0.016935], [-0.0034828, 0.017025], [-0.0034328, 0.017019], [-0.0033931, 0.017015], [-0.0033333, 0.017008], [-0.0033033, 0.017006], [-0.0032338, 0.016997], [-0.0032134, 0.016996], [-0.0031343, 0.016987], [-0.0031235, 0.016986], [-0.0030348, 0.016977], [-0.0030338, 0.016977], [-0.0010813, 0.016939], [-0.0010448, 0.016939], [-0.0011443, 0.016938], [-0.00098086, 0.01694], [-0.00094527, 0.01694], [-0.00088047, 0.016941], [-0.00084577, 0.016941], [-0.0007801, 0.016942], [-0.00074627, 0.016942], [-0.00067977, 0.016942], [-0.00064677, 0.016943], [-0.00057949, 0.016943], [-0.00054726, 0.016943], [-0.00047928, 0.016944], [-0.00044776, 0.016944], [-0.00037915, 0.016944], [-0.00034826, 0.016945], [-0.00027911, 0.016945], [-0.00024876, 0.016945], [-0.00017917, 0.016945], [-0.00014925, 0.016946], [-7.9332e-05, 0.016946], [-4.9751e-05, 0.016946], [2.04e-05, 0.016946], [4.9751e-05, 0.016946], [0.00012002, 0.016946], [0.00014925, 0.016946], [0.00021954, 0.016946], [0.00024876, 0.016946], [0.00031896, 0.016946], [0.00034826, 0.016946], [0.00041828, 0.016946], [0.00044776, 0.016946], [-0.0019809, 0.016935], [-0.0019403, 0.016935], [-0.0018817, 0.016934], [-0.0018408, 0.016934], [-0.0017823, 0.016934], [-0.0017413, 0.016934], [-0.0016826, 0.016935], [-0.0016418, 0.016935], [-0.0015827, 0.016935], [-0.0015423, 0.016935], [-0.0014826, 0.016935], [-0.0014428, 0.016936], [-0.0013824, 0.016936], [-0.0013433, 0.016936], [-0.0012821, 0.016937], [-0.0012438, 0.016937], [-0.0011817, 0.016938], [-0.004542, 0.017261]]\n",
      "float64\n"
     ]
    },
    {
     "ename": "AttributeError",
     "evalue": "'numpy.ndarray' object has no attribute 'remove'",
     "output_type": "error",
     "traceback": [
      "\u001b[0;31m---------------------------------------------------------------------------\u001b[0m",
      "\u001b[0;31mAttributeError\u001b[0m                            Traceback (most recent call last)",
      "\u001b[0;32m/tmp/ipykernel_191445/901833363.py\u001b[0m in \u001b[0;36m<module>\u001b[0;34m\u001b[0m\n\u001b[1;32m     29\u001b[0m \u001b[0mprint\u001b[0m\u001b[0;34m(\u001b[0m\u001b[0;34m[\u001b[0m\u001b[0mlist\u001b[0m\u001b[0;34m(\u001b[0m\u001b[0mrow\u001b[0m\u001b[0;34m)\u001b[0m \u001b[0;32mfor\u001b[0m \u001b[0mrow\u001b[0m \u001b[0;32min\u001b[0m \u001b[0mcoor_1\u001b[0m\u001b[0;34m]\u001b[0m\u001b[0;34m)\u001b[0m\u001b[0;34m\u001b[0m\u001b[0;34m\u001b[0m\u001b[0m\n\u001b[1;32m     30\u001b[0m \u001b[0mprint\u001b[0m\u001b[0;34m(\u001b[0m\u001b[0mcoor_1\u001b[0m\u001b[0;34m.\u001b[0m\u001b[0mdtype\u001b[0m\u001b[0;34m)\u001b[0m\u001b[0;34m\u001b[0m\u001b[0;34m\u001b[0m\u001b[0m\n\u001b[0;32m---> 31\u001b[0;31m \u001b[0mpath\u001b[0m \u001b[0;34m=\u001b[0m \u001b[0moptimized_path\u001b[0m\u001b[0;34m(\u001b[0m\u001b[0mcoor_1\u001b[0m\u001b[0;34m,\u001b[0m\u001b[0mstart\u001b[0m\u001b[0;34m)\u001b[0m\u001b[0;34m\u001b[0m\u001b[0;34m\u001b[0m\u001b[0m\n\u001b[0m",
      "\u001b[0;32m/tmp/ipykernel_191445/901833363.py\u001b[0m in \u001b[0;36moptimized_path\u001b[0;34m(coords, start)\u001b[0m\n\u001b[1;32m     16\u001b[0m     \u001b[0mpass_by\u001b[0m \u001b[0;34m=\u001b[0m \u001b[0mcoords\u001b[0m\u001b[0;34m\u001b[0m\u001b[0;34m\u001b[0m\u001b[0m\n\u001b[1;32m     17\u001b[0m     \u001b[0mpath\u001b[0m \u001b[0;34m=\u001b[0m \u001b[0;34m[\u001b[0m\u001b[0mstart\u001b[0m\u001b[0;34m]\u001b[0m\u001b[0;34m\u001b[0m\u001b[0;34m\u001b[0m\u001b[0m\n\u001b[0;32m---> 18\u001b[0;31m     \u001b[0mpass_by\u001b[0m\u001b[0;34m.\u001b[0m\u001b[0mremove\u001b[0m\u001b[0;34m(\u001b[0m\u001b[0mstart\u001b[0m\u001b[0;34m)\u001b[0m\u001b[0;34m\u001b[0m\u001b[0;34m\u001b[0m\u001b[0m\n\u001b[0m\u001b[1;32m     19\u001b[0m     \u001b[0;32mwhile\u001b[0m \u001b[0mpass_by\u001b[0m\u001b[0;34m:\u001b[0m\u001b[0;34m\u001b[0m\u001b[0;34m\u001b[0m\u001b[0m\n\u001b[1;32m     20\u001b[0m         \u001b[0mnearest\u001b[0m \u001b[0;34m=\u001b[0m \u001b[0mmin\u001b[0m\u001b[0;34m(\u001b[0m\u001b[0mpass_by\u001b[0m\u001b[0;34m,\u001b[0m \u001b[0mkey\u001b[0m\u001b[0;34m=\u001b[0m\u001b[0;32mlambda\u001b[0m \u001b[0mx\u001b[0m\u001b[0;34m:\u001b[0m \u001b[0mdistance\u001b[0m\u001b[0;34m(\u001b[0m\u001b[0mpath\u001b[0m\u001b[0;34m[\u001b[0m\u001b[0;34m-\u001b[0m\u001b[0;36m1\u001b[0m\u001b[0;34m]\u001b[0m\u001b[0;34m,\u001b[0m \u001b[0mx\u001b[0m\u001b[0;34m)\u001b[0m\u001b[0;34m)\u001b[0m\u001b[0;34m\u001b[0m\u001b[0;34m\u001b[0m\u001b[0m\n",
      "\u001b[0;31mAttributeError\u001b[0m: 'numpy.ndarray' object has no attribute 'remove'"
     ]
    }
   ],
   "source": [
    "def distance(P1, P2):\n",
    "    \"\"\"\n",
    "    This function computes the distance between 2 points defined by\n",
    "     P1 = (x1,y1) and P2 = (x2,y2) \n",
    "    \"\"\"\n",
    "    return ((P1[0] - P2[0])**2 + (P1[1] - P2[1])**2) ** 0.5\n",
    "\n",
    "\n",
    "def optimized_path(coords, start=None):\n",
    "    \"\"\"\n",
    "    This function finds the nearest point to a point\n",
    "    coords should be a list in this format coords = [ [x1, y1], [x2, y2] , ...] \n",
    "    \"\"\"\n",
    "    if start is None:\n",
    "        start = coords[0]\n",
    "    pass_by = coords\n",
    "    path = [start]\n",
    "    pass_by.remove(start)\n",
    "    while pass_by:\n",
    "        nearest = min(pass_by, key=lambda x: distance(path[-1], x))\n",
    "        path.append(nearest)\n",
    "        pass_by.remove(nearest)\n",
    "    return path\n",
    "\n",
    "print(x_coor_1[0])\n",
    "# define a start point\n",
    "start = [x_coor_1[0], y_coor_1[0]]\n",
    "print(start)\n",
    "print([list(row) for row in coor_1])\n",
    "print(coor_1.dtype)\n",
    "path = optimized_path(coor_1,start)\n"
   ]
  },
  {
   "cell_type": "code",
   "execution_count": 28,
   "id": "0c275fc1",
   "metadata": {},
   "outputs": [
    {
     "ename": "NameError",
     "evalue": "name 'x_coor_1' is not defined",
     "output_type": "error",
     "traceback": [
      "\u001b[0;31m---------------------------------------------------------------------------\u001b[0m",
      "\u001b[0;31mNameError\u001b[0m                                 Traceback (most recent call last)",
      "\u001b[0;32m/tmp/ipykernel_193676/3961462024.py\u001b[0m in \u001b[0;36m<module>\u001b[0;34m\u001b[0m\n\u001b[1;32m      1\u001b[0m \u001b[0ms\u001b[0m \u001b[0;34m=\u001b[0m \u001b[0;36m1\u001b[0m\u001b[0;34m\u001b[0m\u001b[0;34m\u001b[0m\u001b[0m\n\u001b[1;32m      2\u001b[0m \u001b[0me\u001b[0m \u001b[0;34m=\u001b[0m \u001b[0;36m20\u001b[0m\u001b[0;34m\u001b[0m\u001b[0;34m\u001b[0m\u001b[0m\n\u001b[0;32m----> 3\u001b[0;31m \u001b[0mplt\u001b[0m\u001b[0;34m.\u001b[0m\u001b[0mscatter\u001b[0m\u001b[0;34m(\u001b[0m\u001b[0mx_coor_1\u001b[0m\u001b[0;34m[\u001b[0m\u001b[0ms\u001b[0m\u001b[0;34m:\u001b[0m\u001b[0me\u001b[0m\u001b[0;34m]\u001b[0m\u001b[0;34m,\u001b[0m \u001b[0my_coor_1\u001b[0m\u001b[0;34m[\u001b[0m\u001b[0ms\u001b[0m\u001b[0;34m:\u001b[0m\u001b[0me\u001b[0m\u001b[0;34m]\u001b[0m\u001b[0;34m)\u001b[0m\u001b[0;34m\u001b[0m\u001b[0;34m\u001b[0m\u001b[0m\n\u001b[0m\u001b[1;32m      4\u001b[0m \u001b[0mplt\u001b[0m\u001b[0;34m.\u001b[0m\u001b[0mplot\u001b[0m\u001b[0;34m(\u001b[0m\u001b[0mx_coor_1\u001b[0m\u001b[0;34m[\u001b[0m\u001b[0ms\u001b[0m\u001b[0;34m:\u001b[0m\u001b[0me\u001b[0m\u001b[0;34m]\u001b[0m\u001b[0;34m,\u001b[0m \u001b[0my_coor_1\u001b[0m\u001b[0;34m[\u001b[0m\u001b[0ms\u001b[0m\u001b[0;34m:\u001b[0m\u001b[0me\u001b[0m\u001b[0;34m]\u001b[0m\u001b[0;34m)\u001b[0m\u001b[0;34m\u001b[0m\u001b[0;34m\u001b[0m\u001b[0m\n",
      "\u001b[0;31mNameError\u001b[0m: name 'x_coor_1' is not defined"
     ]
    }
   ],
   "source": [
    "s = 1\n",
    "e = 20\n",
    "plt.scatter(x_coor_1[s:e], y_coor_1[s:e])\n",
    "plt.plot(x_coor_1[s:e], y_coor_1[s:e])"
   ]
  },
  {
   "cell_type": "code",
   "execution_count": 8,
   "id": "e59e8824",
   "metadata": {},
   "outputs": [],
   "source": [
    "from python_tsp.distances import great_circle_distance_matrix\n",
    "dist_mat = great_circle_distance_matrix(coor_1)"
   ]
  },
  {
   "cell_type": "code",
   "execution_count": null,
   "id": "eb871c4e",
   "metadata": {},
   "outputs": [],
   "source": [
    "%%time\n",
    "# sort using traveling salesmen problem approach\n",
    "from python_tsp.exact import solve_tsp_dynamic_programming\n",
    "permutation, distance = solve_tsp_dynamic_programming(dist_mat)"
   ]
  },
  {
   "cell_type": "code",
   "execution_count": null,
   "id": "092395ca",
   "metadata": {},
   "outputs": [],
   "source": [
    "plt.scatter(x_coor[s:e], y_coor[s:e])\n",
    "plt.plot(x_coor[s:e], y_coor[s:e])"
   ]
  },
  {
   "cell_type": "code",
   "execution_count": null,
   "id": "b7cbcd38",
   "metadata": {},
   "outputs": [],
   "source": []
  },
  {
   "cell_type": "code",
   "execution_count": null,
   "id": "58310c1d",
   "metadata": {},
   "outputs": [],
   "source": []
  },
  {
   "cell_type": "code",
   "execution_count": null,
   "id": "fd30dac2",
   "metadata": {},
   "outputs": [],
   "source": []
  },
  {
   "cell_type": "markdown",
   "id": "5adbdb2d",
   "metadata": {},
   "source": [
    "#### Use Shapely"
   ]
  },
  {
   "cell_type": "code",
   "execution_count": 6,
   "id": "72f43328",
   "metadata": {},
   "outputs": [
    {
     "name": "stdout",
     "output_type": "stream",
     "text": [
      "732\n",
      "1128\n"
     ]
    },
    {
     "data": {
      "text/plain": [
       "<matplotlib.collections.PathCollection at 0x7f05609d8ee0>"
      ]
     },
     "execution_count": 6,
     "metadata": {},
     "output_type": "execute_result"
    },
    {
     "data": {
      "image/png": "[encoded data removed]",
      "text/plain": [
       "<Figure size 432x288 with 1 Axes>"
      ]
     },
     "metadata": {
      "needs_background": "light"
     },
     "output_type": "display_data"
    }
   ],
   "source": [
    "# load raw paraview points \n",
    "raw_coor_1 = np.loadtxt('preProcOpt/meshStudy/meshSF-1/ls_phi-0.5.txt', delimiter=',', skiprows=1, usecols=(1,2))\n",
    "raw_coor_15 = np.loadtxt('preProcOpt/meshStudy/meshSF-1.5/ls_phi-0.5.txt', delimiter=',', skiprows=1, usecols=(1,2))\n",
    "print(len(raw_coor_1))\n",
    "print(len(raw_coor_15))\n",
    "plt.scatter(raw_coor_1[:,0], raw_coor_1[:,1])\n",
    "plt.scatter(raw_coor_15[:,0], raw_coor_15[:,1])"
   ]
  },
  {
   "cell_type": "code",
   "execution_count": 7,
   "id": "9653bfde",
   "metadata": {
    "scrolled": true
   },
   "outputs": [
    {
     "data": {
      "text/plain": [
       "<matplotlib.collections.PathCollection at 0x7f05606373d0>"
      ]
     },
     "execution_count": 7,
     "metadata": {},
     "output_type": "execute_result"
    },
    {
     "data": {
      "image/png": "[encoded data removed]",
      "text/plain": [
       "<Figure size 432x288 with 1 Axes>"
      ]
     },
     "metadata": {
      "needs_background": "light"
     },
     "output_type": "display_data"
    }
   ],
   "source": [
    "from shapely.geometry.polygon import LinearRing\n",
    "\n",
    "ring_1 = LinearRing(raw_coor_1)\n",
    "coor_1 = np.array(list(ring_1.coords))\n",
    "# plt.plot(list(ring_1.coords[:][0]), list(ring_1.coords[:][1]))\n",
    "x_coor = coor_1[:,0]\n",
    "y_coor = coor_1[:,1]\n",
    "plt.scatter(np.array(ring_1.coords)[:,0], np.array(ring_1.coords)[:,1])"
   ]
  },
  {
   "cell_type": "code",
   "execution_count": null,
   "id": "4e80ec1e",
   "metadata": {},
   "outputs": [],
   "source": []
  },
  {
   "cell_type": "code",
   "execution_count": 28,
   "id": "9649df5a",
   "metadata": {},
   "outputs": [],
   "source": [
    "# print(list(ring_1.coords))"
   ]
  },
  {
   "cell_type": "code",
   "execution_count": 40,
   "id": "658c93d8",
   "metadata": {
    "scrolled": true
   },
   "outputs": [
    {
     "name": "stdout",
     "output_type": "stream",
     "text": [
      "[[-0.004542   0.017261 ]\n",
      " [-0.0045274  0.017258 ]\n",
      " [-0.0045729  0.017275 ]\n",
      " ...\n",
      " [-0.0012438  0.016937 ]\n",
      " [-0.0011817  0.016938 ]\n",
      " [-0.004542   0.017261 ]]\n",
      "[-4.5420e-03 -4.5274e-03 -4.5729e-03 -4.4659e-03 -4.4279e-03 -4.3855e-03\n",
      " -4.3284e-03 -4.3064e-03 -4.8322e-03 -4.8259e-03 -4.8421e-03 -4.7620e-03\n",
      " -4.7264e-03 -4.6847e-03 -4.6269e-03 -4.6098e-03 -5.0428e-03 -5.0249e-03\n",
      " -5.0693e-03 -4.9714e-03 -4.9254e-03 -4.8971e-03 -5.2431e-03 -5.2239e-03\n",
      " -5.2676e-03 -5.1735e-03 -5.1244e-03 -5.1027e-03 -5.4334e-03 -5.4229e-03\n",
      " -5.4440e-03 -5.3689e-03 -5.3234e-03 -5.2997e-03 -5.5571e-03 -5.5224e-03\n",
      " -5.6001e-03 -5.4888e-03 -5.6724e-03 -5.6219e-03 -5.7214e-03 -5.6106e-03\n",
      " -5.7341e-03 -5.7444e-03 -5.8486e-03 -5.8209e-03 -5.8731e-03 -5.7845e-03\n",
      " -5.9571e-03 -5.9204e-03 -5.9911e-03 -5.8949e-03 -6.0616e-03 -6.0199e-03\n",
      " -6.1000e-03 -6.0030e-03 -6.1627e-03 -6.1194e-03 -6.2001e-03 -6.1074e-03\n",
      " -6.2605e-03 -6.2189e-03 -6.2920e-03 -6.2068e-03 -6.3546e-03 -6.3184e-03\n",
      " -6.3772e-03 -6.3012e-03 -6.4439e-03 -6.4179e-03 -6.4565e-03 -6.3914e-03\n",
      " -6.5251e-03 -6.5174e-03 -6.5278e-03 -6.4789e-03 -6.5636e-03 -6.5893e-03\n",
      " -6.6419e-03 -6.6169e-03 -6.5968e-03 -6.6508e-03 -6.6716e-03 -6.6998e-03\n",
      " -6.7423e-03 -6.7164e-03 -6.7497e-03 -6.8234e-03 -6.8159e-03 -6.8248e-03\n",
      " -6.7034e-03 -6.7677e-03 -6.7866e-03 -6.7922e-03 -6.8476e-03 -6.8538e-03\n",
      " -6.8647e-03 -6.8744e-03 -6.8793e-03 -6.8907e-03 -6.8926e-03 -6.9029e-03\n",
      " -6.9033e-03 -6.9096e-03 -6.9096e-03 -6.9098e-03 -6.9095e-03 -6.9033e-03\n",
      " -6.9022e-03 -6.8914e-03 -6.8876e-03 -6.8754e-03 -6.8649e-03 -6.8552e-03\n",
      " -6.8301e-03 -6.8270e-03 -6.8159e-03 -6.7889e-03 -6.7736e-03 -6.7525e-03\n",
      " -6.7164e-03 -6.7039e-03 -6.6931e-03 -6.6552e-03 -6.6169e-03 -6.5952e-03\n",
      " -6.5631e-03 -5.1172e-03 -5.1244e-03 -5.0249e-03 -4.9793e-03 -4.9254e-03\n",
      " -4.8367e-03 -4.8259e-03 -4.7264e-03 -4.8046e-03 -4.6867e-03 -4.2289e-03\n",
      " -4.2662e-03 -4.2020e-03 -4.0299e-03 -4.0341e-03 -4.0264e-03 -3.5323e-03\n",
      " -3.6172e-03 -3.4401e-03 -6.5362e-03 -6.5174e-03 -6.4665e-03 -6.4179e-03\n",
      " -6.3915e-03 -6.3184e-03 -6.3138e-03 -6.2918e-03 -6.2314e-03 -6.2189e-03\n",
      " -6.1422e-03 -6.1194e-03 -6.0477e-03 -6.0199e-03 -5.9483e-03 -5.9204e-03\n",
      " -5.8443e-03 -5.8209e-03 -5.7353e-03 -5.7214e-03 -5.6219e-03 -5.6303e-03\n",
      " -5.6205e-03 -5.5224e-03 -5.5010e-03 -5.4229e-03 -5.3782e-03 -5.3234e-03\n",
      " -5.2513e-03 -5.2239e-03 -5.1441e-03 -2.8358e-03 -2.9048e-03 -2.7363e-03\n",
      " -2.7455e-03 -2.7213e-03 -2.6368e-03 -2.5373e-03 -2.5900e-03 -2.4378e-03\n",
      " -2.4399e-03 -2.4338e-03 -2.3383e-03 -2.2388e-03 -2.2941e-03 -2.1393e-03\n",
      " -2.1537e-03 -2.1054e-03 -2.0398e-03 -1.9403e-03 -2.0137e-03 -1.8408e-03\n",
      " -1.8813e-03 -1.7413e-03 -1.7502e-03 -1.7143e-03 -1.6418e-03 -1.5423e-03\n",
      " -1.6196e-03 -1.4428e-03 -1.4955e-03 -1.3433e-03 -1.3743e-03 -1.2438e-03\n",
      " -1.2535e-03 -1.1989e-03 -1.1443e-03 -1.0448e-03 -1.1329e-03 -9.4527e-04\n",
      " -1.0166e-03 -8.4577e-04 -9.0353e-04 -7.4627e-04 -7.9273e-04 -4.6269e-03\n",
      " -4.5327e-03 -4.5274e-03 -4.4279e-03 -4.5189e-03 -4.3711e-03 -4.3284e-03\n",
      " -4.1294e-03 -3.9303e-03 -3.8420e-03 -3.8308e-03 -3.7313e-03 -3.8188e-03\n",
      " -3.6470e-03 -3.6318e-03 -3.4328e-03 -3.3333e-03 -3.4265e-03 -3.2338e-03\n",
      " -3.2460e-03 -3.2185e-03 -3.1343e-03 -3.0348e-03 -3.0727e-03 -2.9810e-03\n",
      " -2.9353e-03  5.5224e-03  5.5649e-03  5.6219e-03  5.7102e-03  5.7214e-03\n",
      "  5.7514e-03  5.8209e-03  5.8444e-03  5.9204e-03  5.9647e-03  6.0199e-03\n",
      "  6.0750e-03  6.1194e-03  6.1766e-03  6.2189e-03  6.2705e-03  6.3184e-03\n",
      "  6.3572e-03  6.4179e-03  6.4366e-03  6.4788e-03  6.5055e-03  6.5174e-03\n",
      "  6.5713e-03  6.6169e-03  6.6323e-03  6.6460e-03  6.6816e-03  6.7164e-03\n",
      "  6.7316e-03  6.7395e-03  6.7699e-03  6.7984e-03  6.8035e-03  6.8159e-03\n",
      "  6.8366e-03  6.8411e-03  6.8586e-03  6.8664e-03  6.8742e-03  6.8818e-03\n",
      "  6.8851e-03  6.8898e-03  6.8910e-03  6.8912e-03  6.8913e-03  6.8872e-03\n",
      "  6.8860e-03  6.8789e-03  6.8756e-03  6.8677e-03  6.8604e-03  6.8539e-03\n",
      "  6.8388e-03  6.8355e-03  6.8159e-03  6.8075e-03  6.8061e-03  6.7812e-03\n",
      "  6.7719e-03  6.7585e-03  6.7338e-03  6.7164e-03  6.6915e-03  6.6837e-03\n",
      "  6.7304e-03  6.6632e-03  6.6349e-03  6.6169e-03  6.5869e-03  6.5745e-03\n",
      "  6.6307e-03  6.5174e-03  6.5128e-03  6.5111e-03  6.5560e-03  6.4725e-03\n",
      "  3.4328e-03  3.4281e-03  3.4218e-03  6.4446e-03  6.4179e-03  6.3861e-03\n",
      "  6.3688e-03  6.4367e-03  6.3184e-03  6.2982e-03  6.2881e-03  6.3508e-03\n",
      "  6.2189e-03  6.2086e-03  6.2036e-03  6.2599e-03  6.1194e-03  6.1163e-03\n",
      "  6.1148e-03  6.1657e-03  6.0693e-03  6.0208e-03  6.0199e-03  5.9707e-03\n",
      "  5.9214e-03  6.0205e-03  5.8209e-03  5.8182e-03  5.8166e-03  5.9204e-03\n",
      "  5.8703e-03  5.9211e-03  5.7682e-03  4.9921e-03  4.9564e-03  4.8259e-03\n",
      "  4.8186e-03  4.8123e-03  4.9254e-03  4.8786e-03  4.9419e-03  4.7264e-03\n",
      "  4.6976e-03  4.6651e-03  4.7645e-03  4.5274e-03  4.5184e-03  4.5098e-03\n",
      "  4.6269e-03  4.5806e-03  4.6460e-03  4.4279e-03  4.3946e-03  4.3506e-03\n",
      "  4.4633e-03  4.2289e-03  4.2075e-03  4.1821e-03  4.3284e-03  4.2753e-03\n",
      "  4.3394e-03  5.7214e-03  5.7126e-03  5.7071e-03  5.6219e-03  5.6053e-03\n",
      "  5.5935e-03  5.6645e-03  5.5224e-03  5.4970e-03  5.4760e-03  5.5590e-03\n",
      "  5.4229e-03  5.3883e-03  5.3542e-03  5.4514e-03  5.3234e-03  5.2793e-03\n",
      "  5.2260e-03  5.3407e-03  5.1244e-03  5.1072e-03  5.0924e-03  5.2239e-03\n",
      "  5.1695e-03  5.2251e-03  5.0249e-03  5.0578e-03  5.4726e-04  5.2082e-04\n",
      "  6.4677e-04  6.1359e-04  7.4627e-04  7.0581e-04  8.4577e-04  7.9746e-04\n",
      "  9.4527e-04  8.8839e-04  1.0448e-03  9.7821e-04  2.1259e-03  2.0910e-03\n",
      "  1.7413e-03  1.7316e-03  1.7002e-03  1.8408e-03  1.8108e-03  1.9403e-03\n",
      "  1.8931e-03  2.0398e-03  1.9755e-03  2.0540e-03  1.2438e-03  1.2337e-03\n",
      "  1.1855e-03  1.3433e-03  1.3175e-03  1.4428e-03  1.4030e-03  1.5423e-03\n",
      "  1.4889e-03  1.6418e-03  1.5738e-03  1.6553e-03  1.1443e-03  1.0663e-03\n",
      "  1.1515e-03  3.2338e-03  3.2212e-03  3.2016e-03  3.0348e-03  3.0107e-03\n",
      "  2.9650e-03  3.1343e-03  3.0849e-03  3.1588e-03  2.7363e-03  2.7256e-03\n",
      "  2.7056e-03  2.8358e-03  2.7979e-03  2.9353e-03  2.8749e-03  2.9465e-03\n",
      "  2.4378e-03  2.4315e-03  2.4184e-03  2.5373e-03  2.5045e-03  2.6368e-03\n",
      "  2.5828e-03  2.6590e-03  2.1393e-03  2.2388e-03  2.2030e-03  2.3383e-03\n",
      "  2.2833e-03  2.3616e-03 -6.4677e-04 -6.8354e-04 -5.4726e-04 -5.7568e-04\n",
      " -4.4776e-04 -4.6905e-04 -3.4826e-04 -3.6367e-04 -2.4876e-04 -2.5966e-04\n",
      " -1.4925e-04 -1.5710e-04 -4.9751e-05 -5.6087e-05  4.9751e-05  4.3363e-05\n",
      "  1.4925e-04  1.4130e-04  2.4876e-04  2.3782e-04  3.4826e-04  3.3312e-04\n",
      "  4.4776e-04  4.2738e-04  4.0299e-03  4.0188e-03  4.0062e-03  4.1294e-03\n",
      "  4.0842e-03  4.1530e-03  3.8308e-03  3.8269e-03  3.8223e-03  3.9303e-03\n",
      "  3.8905e-03  3.9614e-03  3.6318e-03  3.6302e-03  3.6282e-03  3.7313e-03\n",
      "  3.6939e-03  3.7661e-03  3.5323e-03  3.4942e-03  3.5674e-03  3.3333e-03\n",
      "  3.2912e-03  3.3652e-03  5.1752e-04  5.4726e-04  6.1668e-04  6.4677e-04\n",
      "  7.1578e-04  7.4627e-04  8.1483e-04  8.4577e-04  9.1386e-04  9.4527e-04\n",
      "  1.0129e-03  1.0448e-03  1.1119e-03  1.1443e-03  1.2110e-03  1.2438e-03\n",
      "  1.3102e-03  1.3433e-03  1.4094e-03  1.4428e-03  1.5088e-03  1.5423e-03\n",
      "  1.6083e-03  1.6418e-03  1.7081e-03  1.7413e-03  1.8082e-03  1.8408e-03\n",
      "  1.9085e-03  1.9403e-03  2.0092e-03  2.0398e-03  2.1104e-03  2.1393e-03\n",
      "  2.2120e-03  2.2388e-03  2.3143e-03  2.3383e-03  2.4173e-03  2.4378e-03\n",
      "  2.5212e-03  2.5373e-03  2.6262e-03  2.6368e-03  2.7325e-03  2.7363e-03\n",
      "  2.7824e-03  2.8358e-03  2.8403e-03  2.9353e-03  2.9490e-03  3.0348e-03\n",
      "  3.0582e-03  3.1343e-03  3.1680e-03  3.2338e-03  3.2788e-03  3.3333e-03\n",
      "  3.3909e-03  3.4328e-03  3.5054e-03  3.5323e-03  3.6236e-03  3.6318e-03\n",
      "  3.6677e-03  3.7313e-03  3.7462e-03  3.8308e-03  3.8688e-03  3.9303e-03\n",
      "  3.9929e-03  4.0299e-03  4.1226e-03  4.1294e-03  4.1476e-03  4.2289e-03\n",
      "  4.2588e-03  4.3284e-03  4.3958e-03  4.4279e-03  4.4974e-03  4.5274e-03\n",
      "  4.5427e-03  4.6269e-03  4.6940e-03  4.7264e-03  4.7789e-03  4.8259e-03\n",
      "  4.8578e-03  4.9254e-03  5.0161e-03  5.0249e-03  5.0324e-03  5.1244e-03\n",
      "  5.2217e-03  5.2239e-03  5.2262e-03  5.3234e-03  5.4021e-03  5.4229e-03\n",
      "  5.4533e-03 -3.7437e-03 -3.7313e-03 -3.7957e-03 -3.6591e-03 -3.6318e-03\n",
      " -3.5717e-03 -3.5323e-03 -4.2327e-03 -4.2289e-03 -4.2421e-03 -4.1558e-03\n",
      " -4.1294e-03 -4.0733e-03 -4.0299e-03 -3.9890e-03 -3.9303e-03 -3.9053e-03\n",
      " -3.8308e-03 -3.8239e-03 -2.9431e-03 -2.9353e-03 -3.0232e-03 -2.8507e-03\n",
      " -2.8358e-03 -2.7571e-03 -2.7363e-03 -2.6623e-03 -2.6368e-03 -2.5668e-03\n",
      " -2.5373e-03 -2.4705e-03 -2.4378e-03 -2.3735e-03 -2.3383e-03 -2.2761e-03\n",
      " -2.2388e-03 -2.1781e-03 -2.1393e-03 -2.0797e-03 -2.0398e-03 -3.4828e-03\n",
      " -3.4328e-03 -3.3931e-03 -3.3333e-03 -3.3033e-03 -3.2338e-03 -3.2134e-03\n",
      " -3.1343e-03 -3.1235e-03 -3.0348e-03 -3.0338e-03 -1.0813e-03 -1.0448e-03\n",
      " -1.1443e-03 -9.8086e-04 -9.4527e-04 -8.8047e-04 -8.4577e-04 -7.8010e-04\n",
      " -7.4627e-04 -6.7977e-04 -6.4677e-04 -5.7949e-04 -5.4726e-04 -4.7928e-04\n",
      " -4.4776e-04 -3.7915e-04 -3.4826e-04 -2.7911e-04 -2.4876e-04 -1.7917e-04\n",
      " -1.4925e-04 -7.9332e-05 -4.9751e-05  2.0400e-05  4.9751e-05  1.2002e-04\n",
      "  1.4925e-04  2.1954e-04  2.4876e-04  3.1896e-04  3.4826e-04  4.1828e-04\n",
      "  4.4776e-04 -1.9809e-03 -1.9403e-03 -1.8817e-03 -1.8408e-03 -1.7823e-03\n",
      " -1.7413e-03 -1.6826e-03 -1.6418e-03 -1.5827e-03 -1.5423e-03 -1.4826e-03\n",
      " -1.4428e-03 -1.3824e-03 -1.3433e-03 -1.2821e-03 -1.2438e-03 -1.1817e-03\n",
      " -4.5420e-03]\n"
     ]
    }
   ],
   "source": [
    "print(np.array(ring_1.coords))\n",
    "print(np.array(ring_1.coords)[:,0])"
   ]
  },
  {
   "cell_type": "code",
   "execution_count": 75,
   "id": "f4b1f3bb",
   "metadata": {},
   "outputs": [
    {
     "data": {
      "text/plain": [
       "<matplotlib.collections.PathCollection at 0x7f81e3e5f5b0>"
      ]
     },
     "execution_count": 75,
     "metadata": {},
     "output_type": "execute_result"
    },
    {
     "data": {
      "image/png": "[encoded data removed]",
      "text/plain": [
       "<Figure size 432x288 with 1 Axes>"
      ]
     },
     "metadata": {
      "needs_background": "light"
     },
     "output_type": "display_data"
    }
   ],
   "source": [
    "start = 450\n",
    "pts = 451\n",
    "plt.scatter(coor_sf_1[start:pts,0], coor_sf_1[start:pts,1], s=5)\n",
    "plt.scatter(coor_sf_15[start:pts,0], coor_sf_15[start:pts,1], s=5)"
   ]
  },
  {
   "cell_type": "code",
   "execution_count": 52,
   "id": "ca070db9",
   "metadata": {},
   "outputs": [
    {
     "data": {
      "text/plain": [
       "0.0015147994904904903"
      ]
     },
     "execution_count": 52,
     "metadata": {},
     "output_type": "execute_result"
    }
   ],
   "source": [
    "np.mean(abs(coor_sf_1-coor_sf_15))"
   ]
  },
  {
   "cell_type": "code",
   "execution_count": null,
   "id": "894992cc",
   "metadata": {},
   "outputs": [],
   "source": []
  },
  {
   "cell_type": "code",
   "execution_count": null,
   "id": "1524525a",
   "metadata": {},
   "outputs": [],
   "source": []
  },
  {
   "cell_type": "code",
   "execution_count": null,
   "id": "d6aa71da",
   "metadata": {},
   "outputs": [],
   "source": []
  },
  {
   "cell_type": "code",
   "execution_count": null,
   "id": "a1f584a1",
   "metadata": {},
   "outputs": [],
   "source": []
  },
  {
   "cell_type": "markdown",
   "id": "53af0f86",
   "metadata": {},
   "source": [
    "Use data from generation 1's population to make critial decisions on the optimization study's set up."
   ]
  },
  {
   "cell_type": "code",
   "execution_count": 2,
   "id": "51afd6d2",
   "metadata": {},
   "outputs": [],
   "source": [
    "genDir = os.path.join(dataDir, 'gen1')"
   ]
  },
  {
   "cell_type": "markdown",
   "id": "c1798aa6",
   "metadata": {},
   "source": [
    "## Run Generation 1\n",
    "UNABLE TO RUN FROM JUPYTER NOTEBOOK\n",
    "\n",
    "If generation 1 has not been run yet do so now. In most cases it is better practice to run generation 1 outside of Jupyter notebook. To do so copy the following command into you execPymoo.py file. "
   ]
  },
  {
   "cell_type": "code",
   "execution_count": 3,
   "id": "fe735e8b",
   "metadata": {},
   "outputs": [],
   "source": [
    "# !conda activate pymoo-CFD && yalesmodules && python execGen1.py"
   ]
  },
  {
   "cell_type": "code",
   "execution_count": 4,
   "id": "822da760",
   "metadata": {},
   "outputs": [],
   "source": [
    "# from pymooCFD.runGen1 import runGen1"
   ]
  },
  {
   "cell_type": "code",
   "execution_count": 5,
   "id": "8cce4e06",
   "metadata": {},
   "outputs": [],
   "source": [
    "# # safe run: only if generation directory does not exist and still tries to load checkpoint-gen1\n",
    "# if not os.path.isdir(genDir):\n",
    "#     runGen1(restart=True)"
   ]
  },
  {
   "cell_type": "code",
   "execution_count": 6,
   "id": "57220ccf",
   "metadata": {},
   "outputs": [],
   "source": [
    "# runGen1(restart=False)"
   ]
  },
  {
   "cell_type": "markdown",
   "id": "2c8b557e",
   "metadata": {},
   "source": [
    "## Load Generation 1 Checkpoint\n",
    "Load algorithm object stored in numpy checkpoint file then extract parameter and objectives from the latest generation's population. "
   ]
  },
  {
   "cell_type": "code",
   "execution_count": 7,
   "id": "aa6d64b3",
   "metadata": {},
   "outputs": [
    {
     "name": "stdout",
     "output_type": "stream",
     "text": [
      "Looking good\n"
     ]
    }
   ],
   "source": [
    "checkpointFile = os.path.join(dataDir, 'checkpoint-gen1.npy')\n",
    "algorithm = loadCP(checkpointFile = checkpointFile)\n",
    "if algorithm.n_gen == 1:\n",
    "    print('Looking good')\n",
    "else:\n",
    "    print('You sure about this?')"
   ]
  },
  {
   "cell_type": "code",
   "execution_count": 8,
   "id": "2ea7e482",
   "metadata": {},
   "outputs": [],
   "source": [
    "X = algorithm.pop.get('X')\n",
    "F = algorithm.pop.get('F')\n",
    "n_var = len(X.transpose())\n",
    "n_obj = len(F.transpose())"
   ]
  },
  {
   "cell_type": "markdown",
   "id": "a7a261d3",
   "metadata": {},
   "source": [
    "## Parameter and Objective Space"
   ]
  },
  {
   "cell_type": "code",
   "execution_count": 9,
   "id": "34597b14",
   "metadata": {},
   "outputs": [],
   "source": [
    "from pymoo.visualization.scatter import Scatter\n",
    "# https://pymoo.org/visualization/scatter.html"
   ]
  },
  {
   "cell_type": "markdown",
   "id": "dae060ea",
   "metadata": {},
   "source": [
    "### Parameter Space"
   ]
  },
  {
   "cell_type": "code",
   "execution_count": 10,
   "id": "60ba6629",
   "metadata": {},
   "outputs": [
    {
     "data": {
      "text/plain": [
       "<pymoo.visualization.scatter.Scatter at 0x7f4ad8e9a7f0>"
      ]
     },
     "execution_count": 10,
     "metadata": {},
     "output_type": "execute_result"
    },
    {
     "data": {
      "image/png": "[encoded data removed]",
      "text/plain": [
       "<Figure size 576x432 with 1 Axes>"
      ]
     },
     "metadata": {
      "needs_background": "light"
     },
     "output_type": "display_data"
    }
   ],
   "source": [
    "##### Variable Space ######\n",
    "def plotX(leg=False):\n",
    "    if n_var > 3:\n",
    "        x_space = Scatter(title = 'Design Space')\n",
    "    else:\n",
    "        x_space = Scatter(title = 'Design Space',\n",
    "                        labels = var_labels, legend=leg)\n",
    "    x_space.add(X)\n",
    "    return x_space\n",
    "x_space = plotX()\n",
    "x_space.save(f'{plotDir}/var-space.png')\n",
    "x_space.show()"
   ]
  },
  {
   "cell_type": "markdown",
   "id": "a122b232",
   "metadata": {},
   "source": [
    "### Objective Space"
   ]
  },
  {
   "cell_type": "code",
   "execution_count": 11,
   "id": "cca9ad9f",
   "metadata": {},
   "outputs": [
    {
     "data": {
      "text/plain": [
       "<pymoo.visualization.scatter.Scatter at 0x7f4ad861e630>"
      ]
     },
     "execution_count": 11,
     "metadata": {},
     "output_type": "execute_result"
    },
    {
     "data": {
      "image/png": "[encoded data removed]",
      "text/plain": [
       "<Figure size 576x432 with 1 Axes>"
      ]
     },
     "metadata": {
      "needs_background": "light"
     },
     "output_type": "display_data"
    }
   ],
   "source": [
    "##### Function Space ######\n",
    "def plotF(leg=False):\n",
    "    if n_obj > 3:\n",
    "        f_space = Scatter(title = 'Objective Space')\n",
    "    else:\n",
    "        f_space = Scatter(title = 'Objective Space',\n",
    "                        labels = obj_labels, legend=leg)\n",
    "    f_space.add(F)\n",
    "    return f_space\n",
    "f_space = plotF()\n",
    "f_space.save(f'{plotDir}/obj-space.png')\n",
    "f_space.show()"
   ]
  },
  {
   "cell_type": "markdown",
   "id": "f78c2865",
   "metadata": {},
   "source": [
    "## Map Generation 1 \n",
    "Plot parameters vs. objective one at a time providing a set of 2D plots that can help to better understand the relationship between parameters and objectives. "
   ]
  },
  {
   "cell_type": "code",
   "execution_count": 12,
   "id": "7a2dfac0",
   "metadata": {
    "scrolled": true
   },
   "outputs": [],
   "source": [
    "# from pymooCFD.util.mapGen1 import mapGen1\n",
    "# mapGen1()"
   ]
  },
  {
   "cell_type": "code",
   "execution_count": 13,
   "id": "dd8e17ea",
   "metadata": {},
   "outputs": [],
   "source": [
    "from pymooCFD.util.sysTools import emptyDir\n",
    "emptyDir(mapDir)"
   ]
  },
  {
   "cell_type": "code",
   "execution_count": 14,
   "id": "7000038a",
   "metadata": {},
   "outputs": [
    {
     "name": "stderr",
     "output_type": "stream",
     "text": [
      "No handles with labels found to put in legend.\n",
      "No handles with labels found to put in legend.\n",
      "No handles with labels found to put in legend.\n",
      "No handles with labels found to put in legend.\n"
     ]
    },
    {
     "data": {
      "image/png": "[encoded data removed]",
      "text/plain": [
       "<Figure size 576x432 with 1 Axes>"
      ]
     },
     "metadata": {
      "needs_background": "light"
     },
     "output_type": "display_data"
    }
   ],
   "source": [
    "from numpy.polynomial import Polynomial\n",
    "##### Variable vs. Objective Plots ######\n",
    "# extract objectives and variables columns and plot them against each other\n",
    "for x_i, x in enumerate(X.transpose()):\n",
    "    for f_i, f in enumerate(F.transpose()):\n",
    "        plot = Scatter(title=f'{var_labels[x_i]} vs. {obj_labels[f_i]}',\n",
    "                        labels=[var_labels[x_i], obj_labels[f_i]],\n",
    "                        legend=True\n",
    "                        )\n",
    "        xy = np.column_stack((x,f))\n",
    "        plot.add(xy)\n",
    "        \n",
    "#         # Power Series: best fit line\n",
    "#         x_poly = np.array(x, dtype=float)\n",
    "#         y_poly = np.array(f, dtype=float)\n",
    "#         # first degree power series\n",
    "#         p_fitted = Polynomial.fit(x_poly, y_poly, 1, full=True)\n",
    "#         poly_obj, lstsq = p_fitted\n",
    "#         coef = poly_obj.coef\n",
    "#         resid = lstsq[0][0]\n",
    "#         if resid > 0.5:\n",
    "#             xy = np.column_stack((x, coef[1]*x+coef[0]))\n",
    "#             plot.add(xy, marker='s', label=f'deg=1, $r^2$={resid}')\n",
    "            \n",
    "        # second degree power series\n",
    "#         p_fitted = Polynomial.fit(x_poly, y_poly, 2)\n",
    "#         p_fitted.convert()\n",
    "# #         print(p_fitted)\n",
    "#         b, x1, x2 = p_fitted\n",
    "#         xy = np.column_stack((x, x1*x+x2*x**2+b))\n",
    "#         plot.add(xy, label='deg=2')\n",
    "\n",
    "        # third degree power series\n",
    "#         p_fitted = Polynomial.fit(x_poly, y_poly, 3)\n",
    "#         p_fitted.convert()\n",
    "# #         print(p_fitted)\n",
    "#         b, x1, x2, x3 = p_fitted\n",
    "#         xy = np.column_stack((x, x1*x+x2*x**2+x3*x**3+b))\n",
    "#         plot.add(xy, label='deg=3')\n",
    "\n",
    "        plot.save(os.path.join(mapDir, f'{var_labels[x_i].replace(\" \", \"_\")}-vs-{obj_labels[f_i].replace(\" \", \"_\")}.png'))\n",
    "#         plot.show()"
   ]
  },
  {
   "cell_type": "code",
   "execution_count": 15,
   "id": "f29a62e1",
   "metadata": {},
   "outputs": [
    {
     "data": {
      "image/png": "[encoded data removed]",
      "text/plain": [
       "<IPython.core.display.Image object>"
      ]
     },
     "metadata": {},
     "output_type": "display_data"
    },
    {
     "name": "stdout",
     "output_type": "stream",
     "text": [
      "preProcOpt/plots/mapGen/Threshold-vs-Simulation_Time.png\n"
     ]
    },
    {
     "data": {
      "image/png": "[encoded data removed]",
      "text/plain": [
       "<IPython.core.display.Image object>"
      ]
     },
     "metadata": {},
     "output_type": "display_data"
    },
    {
     "name": "stdout",
     "output_type": "stream",
     "text": [
      "preProcOpt/plots/mapGen/Threshold-vs-Vortex_Locations_Error.png\n"
     ]
    },
    {
     "data": {
      "image/png": "[encoded data removed]",
      "text/plain": [
       "<IPython.core.display.Image object>"
      ]
     },
     "metadata": {},
     "output_type": "display_data"
    },
    {
     "name": "stdout",
     "output_type": "stream",
     "text": [
      "preProcOpt/plots/mapGen/Propagation_Steps-vs-Simulation_Time.png\n"
     ]
    },
    {
     "data": {
      "image/png": "[encoded data removed]",
      "text/plain": [
       "<IPython.core.display.Image object>"
      ]
     },
     "metadata": {},
     "output_type": "display_data"
    },
    {
     "name": "stdout",
     "output_type": "stream",
     "text": [
      "preProcOpt/plots/mapGen/Propagation_Steps-vs-Vortex_Locations_Error.png\n"
     ]
    }
   ],
   "source": [
    "for imageName in glob.glob(f'{mapDir}/*.png'): #assuming PNG\n",
    "    display(Image(filename=imageName))\n",
    "    print(imageName)"
   ]
  },
  {
   "cell_type": "markdown",
   "id": "25f00e58",
   "metadata": {},
   "source": [
    "## Examine Extremes of Parameter Space"
   ]
  },
  {
   "cell_type": "code",
   "execution_count": 16,
   "id": "1f5ff289",
   "metadata": {},
   "outputs": [
    {
     "name": "stdout",
     "output_type": "stream",
     "text": [
      "Threshold\n",
      "     lower limit - 0.05\n",
      "     upper limit - 0.15\n",
      "Propagation Steps\n",
      "     lower limit - 1\n",
      "     upper limit - 10\n"
     ]
    }
   ],
   "source": [
    "for var in range(n_var):\n",
    "    print(var_labels[var])\n",
    "    print(f'     lower limit - {algorithm.problem.xl[var]}')\n",
    "    print(f'     upper limit - {algorithm.problem.xu[var]}')"
   ]
  },
  {
   "cell_type": "markdown",
   "id": "1eb9dfe4",
   "metadata": {},
   "source": [
    "#### Test Corners of Parameter Space"
   ]
  },
  {
   "cell_type": "code",
   "execution_count": 17,
   "id": "ea7c3894",
   "metadata": {},
   "outputs": [],
   "source": [
    "xl =         [0.05, 1]  # , 0.10]  # lower limits of parameters/variables\n",
    "xu =         [0.15, 10]"
   ]
  },
  {
   "cell_type": "code",
   "execution_count": 18,
   "id": "ce571393",
   "metadata": {},
   "outputs": [],
   "source": [
    "# from itertools import product\n",
    "\n",
    "# xl = algorithm.problem.xl\n",
    "# xu = algorithm.problem.xu\n",
    "# n_var = len(algorithm.pop.get('X'))\n",
    "# n_perm = 2**n_var\n",
    "# # find every binary permutations of length n_var\n",
    "# bin_perms = [list(i) for i in product([0, 1], repeat=n_var)]\n",
    "# lims = np.column_stack((xl, xu))\n",
    "# # limit permutations\n",
    "# lim_perms = np.zeros((n_perm, n_var))\n",
    "# for perm_i, bin_perm in enumerate(bin_perms):\n",
    "#     for var, lim_i in enumerate(bin_perm):\n",
    "#         lim_perms[perm_i, var] = lims[var][lim_i]\n",
    "# print(lim_perms)"
   ]
  },
  {
   "cell_type": "code",
   "execution_count": 19,
   "id": "fc879271",
   "metadata": {},
   "outputs": [],
   "source": [
    "lim_perms = [[ 0.05,  1.  ], [ 0.05, 10.  ], [ 0.15,  1.  ]\n",
    " , [ 0.15, 10.  ]]"
   ]
  },
  {
   "cell_type": "markdown",
   "id": "337471d6",
   "metadata": {},
   "source": [
    "#### Run Parameter Space Corner Cases "
   ]
  },
  {
   "cell_type": "markdown",
   "id": "2a5d0b76",
   "metadata": {},
   "source": [
    "``` python\n",
    "## Serial run of corner cases\n",
    "from pymooCFD.setupCFD import runCase\n",
    "extCaseDir = os.path.join('preProcOpt', 'lim_perm_sim')\n",
    "for perm_i, lim_perm in enumerate(lim_perms):\n",
    "    runCase(f'{extCaseDir}-{perm_i}', lim_perm)\n",
    "```"
   ]
  },
  {
   "cell_type": "markdown",
   "id": "cd78cabf",
   "metadata": {},
   "source": [
    "#### Post-Process Corner Cases"
   ]
  },
  {
   "cell_type": "code",
   "execution_count": 20,
   "id": "5d1bbdb1",
   "metadata": {},
   "outputs": [],
   "source": [
    "extCaseDir = os.path.join('preProcOpt', 'lim_perm_sim')"
   ]
  },
  {
   "cell_type": "code",
   "execution_count": 21,
   "id": "7d322d8f",
   "metadata": {},
   "outputs": [
    {
     "name": "stdout",
     "output_type": "stream",
     "text": [
      "Limit Permutation  - Threshold: 0.05 / Propagation Steps: 1.0 / \n",
      "Objectives  - Simulation Time: 2220.0 / Vortex Locations Error: 3.602576326924017e-12 / \n",
      "\n",
      "Limit Permutation  - Threshold: 0.05 / Propagation Steps: 10.0 / \n",
      "Objectives  - Simulation Time: 769.0 / Vortex Locations Error: 3.602576326924017e-12 / \n",
      "\n",
      "Limit Permutation  - Threshold: 0.15 / Propagation Steps: 1.0 / \n",
      "Objectives  - Simulation Time: 309.0 / Vortex Locations Error: 3.602576326924017e-12 / \n",
      "\n",
      "Limit Permutation  - Threshold: 0.15 / Propagation Steps: 10.0 / \n",
      "Objectives  - Simulation Time: 315.0 / Vortex Locations Error: 3.602576326924017e-12 / \n",
      "\n"
     ]
    }
   ],
   "source": [
    "extObj = []\n",
    "for perm_i, lim_perm in enumerate(lim_perms):\n",
    "    cwd = f'{extCaseDir}-{perm_i}'\n",
    "    \n",
    "    from pymooCFD.util.handleData import printArray\n",
    "    printArray(lim_perm, var_labels, 'Limit Permutation')\n",
    "    obj_ind = np.loadtxt(os.path.join(cwd, 'obj.txt'))\n",
    "    printArray(obj_ind, obj_labels, 'Objectives')\n",
    "    extObj.append(obj_ind)\n",
    "\n",
    "    # print entities in case folder\n",
    "#     ents = os.listdir(cwd)\n",
    "#     for ent in ents:\n",
    "#         print(f'     {ent}')\n",
    "        \n",
    "    print()\n",
    "# extObj = np.column_stack(extObj)\n",
    "extObj = np.array(extObj)"
   ]
  },
  {
   "cell_type": "code",
   "execution_count": 22,
   "id": "37bfbce0",
   "metadata": {},
   "outputs": [
    {
     "name": "stdout",
     "output_type": "stream",
     "text": [
      "Minimum Objective 0 is in limit permutation 2\n",
      "     Limit Permutation  - Threshold: 0.15 / Propagation Steps: 1.0 / \n",
      "     Simulation Time - 309.0\n",
      "Maximum Objective 0 is in limit permutation 0\n",
      "     Limit Permutation  - Threshold: 0.05 / Propagation Steps: 1.0 / \n",
      "     Simulation Time - 2220.0\n",
      "Minimum Objective 1 is in limit permutation 0\n",
      "     Limit Permutation  - Threshold: 0.05 / Propagation Steps: 1.0 / \n",
      "     Vortex Locations Error - 3.602576326924017e-12\n",
      "Maximum Objective 1 is in limit permutation 0\n",
      "     Limit Permutation  - Threshold: 0.05 / Propagation Steps: 1.0 / \n",
      "     Vortex Locations Error - 3.602576326924017e-12\n"
     ]
    }
   ],
   "source": [
    "extObj_stack = np.column_stack(extObj)\n",
    "for obj in range(algorithm.problem.n_obj):\n",
    "    min_i = np.argmin(extObj_stack[obj])\n",
    "    min_obj = np.min(extObj_stack[obj])\n",
    "    print(f'Minimum Objective {obj} is in limit permutation {min_i}')\n",
    "    print('     ', end='')\n",
    "    printArray(lim_perms[min_i], var_labels, 'Limit Permutation')\n",
    "    print(f'     {obj_labels[obj]} - {min_obj}')\n",
    "    max_i = np.argmax(extObj_stack[obj])\n",
    "    max_obj = np.max(extObj_stack[obj])\n",
    "    print(f'Maximum Objective {obj} is in limit permutation {max_i}')\n",
    "    print('     ', end='')\n",
    "    printArray(lim_perms[max_i], var_labels, 'Limit Permutation')\n",
    "    print(f'     {obj_labels[obj]} - {max_obj}')"
   ]
  },
  {
   "cell_type": "code",
   "execution_count": 23,
   "id": "2775f510",
   "metadata": {},
   "outputs": [
    {
     "data": {
      "text/plain": [
       "<pymoo.visualization.scatter.Scatter at 0x7f4ba80b3d30>"
      ]
     },
     "execution_count": 23,
     "metadata": {},
     "output_type": "execute_result"
    },
    {
     "data": {
      "image/png": "[encoded data removed]",
      "text/plain": [
       "<Figure size 576x432 with 1 Axes>"
      ]
     },
     "metadata": {
      "needs_background": "light"
     },
     "output_type": "display_data"
    }
   ],
   "source": [
    "plot = Scatter(title='Parameter Space Extremes')\n",
    "plot.add(np.array(lim_perms))\n",
    "plot.show()"
   ]
  },
  {
   "cell_type": "code",
   "execution_count": 24,
   "id": "d57fd549",
   "metadata": {},
   "outputs": [
    {
     "data": {
      "text/plain": [
       "<pymoo.visualization.scatter.Scatter at 0x7f4ad82d7828>"
      ]
     },
     "execution_count": 24,
     "metadata": {},
     "output_type": "execute_result"
    },
    {
     "data": {
      "image/png": "[encoded data removed]",
      "text/plain": [
       "<Figure size 576x432 with 1 Axes>"
      ]
     },
     "metadata": {
      "needs_background": "light"
     },
     "output_type": "display_data"
    }
   ],
   "source": [
    "plot = Scatter(title='Objectives from Parameter Space Extremes')\n",
    "plot.add(extObj)\n",
    "plot.show()"
   ]
  },
  {
   "cell_type": "code",
   "execution_count": null,
   "id": "5886deea",
   "metadata": {},
   "outputs": [],
   "source": []
  },
  {
   "cell_type": "markdown",
   "id": "7019f5e2",
   "metadata": {},
   "source": [
    "#### Generation 1 Extremes"
   ]
  },
  {
   "cell_type": "code",
   "execution_count": 25,
   "id": "7be44f30",
   "metadata": {
    "scrolled": false
   },
   "outputs": [
    {
     "name": "stdout",
     "output_type": "stream",
     "text": [
      "Parameter 1: Threshold\n",
      "     Min - Individual 8: [0.05093415 1.        ]\n",
      "     Max - Individual 47: [0.14950315 3.        ]\n",
      "Parameter 2: Propagation Steps\n",
      "     Min - Individual 2: [0.09078287 1.        ]\n",
      "     Max - Individual 23: [ 0.13263366 10.        ]\n"
     ]
    }
   ],
   "source": [
    "x_ext = np.zeros((n_var, n_var, 2))\n",
    "imin = 0\n",
    "imax = 1\n",
    "\n",
    "for var in range(n_var):\n",
    "    ind_min = np.argmin(X.transpose()[var])\n",
    "    ind_max = np.argmax(X.transpose()[var])\n",
    "    \n",
    "    x_ext[var, :, imin] = X[ind_min]\n",
    "    x_ext[var, :, imax] = X[ind_max]\n",
    "    \n",
    "    print(f'Parameter {var + 1}: {var_labels[var]}')\n",
    "    print(f'     Min - Individual {ind_min}: {x_ext[var, :, imin]}')\n",
    "    print(f'     Max - Individual {ind_max}: {x_ext[var, :, imax]}') "
   ]
  },
  {
   "cell_type": "code",
   "execution_count": 29,
   "id": "c6abc8a1",
   "metadata": {
    "scrolled": false
   },
   "outputs": [
    {
     "name": "stdout",
     "output_type": "stream",
     "text": [
      "Parameter 1: Threshold\n",
      "     Min - Individual 8: [0.05093415 1.        ]\n",
      "          Objectives: [2.01000000e+03 3.60257633e-12]\n",
      "Parameter 1: Threshold\n",
      "     Max - Individual 47: [0.14950315 3.        ]\n",
      "          Objectives: [2.24000000e+03 3.60257633e-12]\n",
      "Parameter 2: Propagation Steps\n",
      "     Min - Individual 2: [0.09078287 1.        ]\n",
      "          Objectives: [2.00000000e+03 3.60257633e-12]\n",
      "Parameter 2: Propagation Steps\n",
      "     Max - Individual 23: [ 0.13263366 10.        ]\n",
      "          Objectives: [2.02000000e+03 3.60257633e-12]\n"
     ]
    }
   ],
   "source": [
    "for var in range(n_var):\n",
    "    ind_min = np.argmin(X.transpose()[var])\n",
    "    ind_max = np.argmax(X.transpose()[var])\n",
    "    \n",
    "    indDir_min = os.path.join(genDir, f'ind{ind_min + 1}')\n",
    "    indDir_max = os.path.join(genDir, f'ind{ind_max + 1}')\n",
    "    ##### ACCESS INDIVIDUAL DIRECTORIES OF EXTREMES #####\n",
    "    from IPython.display import Image\n",
    "    print(f'Parameter {var + 1}: {var_labels[var]}')\n",
    "    print(f'     Min - Individual {ind_min}: {x_ext[var, :, imin]}')\n",
    "    print(f'          Objectives: {F[ind_min]}')\n",
    "#     plt_min = os.path.join(indDir_min, 'plt.png')\n",
    "#     display(Image(filename=plt_min))\n",
    "    print(f'Parameter {var + 1}: {var_labels[var]}')\n",
    "    print(f'     Max - Individual {ind_max}: {x_ext[var, :, imax]}')\n",
    "    print(f'          Objectives: {F[ind_max]}')\n",
    "#     plt_max = os.path.join(indDir_max, 'plt.png')\n",
    "#     display(Image(filename=plt_max))"
   ]
  },
  {
   "cell_type": "code",
   "execution_count": null,
   "id": "ecd83745",
   "metadata": {},
   "outputs": [],
   "source": [
    "# x_space = Scatter()\n",
    "x_space = plotX(leg=True)\n",
    "x_space.add(x_ext[:,:,imin], color='green', marker='s', s=50, label='min')\n",
    "x_space.add(x_ext[:,:,imax], color='red', marker='s', s=50, label='max')\n",
    "x_space.show()\n",
    "    # Add extreme points to entire design space graph\n",
    "#     x_space.ax.scatter()\n",
    "#     x_space.remove(X[i_min])\n",
    "#     x_space.add(x_ext[var, :, imin], color='red', label=f'Var.{var} min', zorder=1, s =30, marker='s')\n",
    "#     x_space.add(x_ext[var, :, imax], color='red', label=f'Var.{var} max', zorder=1, s=30, marker='s')"
   ]
  },
  {
   "cell_type": "code",
   "execution_count": null,
   "id": "bcfa8a20",
   "metadata": {},
   "outputs": [],
   "source": [
    "for var_i in range(n_var):\n",
    "    for var_j in range(n_var):\n",
    "        if var_i != var_j:\n",
    "            print()\n",
    "            print()\n",
    "            plot = Scatter(title=f'{var_labels[var_i]} vs. {var_labels[var_j]}', \n",
    "                           labels = [var_labels[var_i], var_labels[var_j]],\n",
    "                           legend=True)\n",
    "            xy = np.column_stack((X.transpose()[var_i], X.transpose()[var_j]))\n",
    "            plot.add(xy)\n",
    "\n",
    "            x_iext = x_ext[var_i, var_i, :]\n",
    "            y_iext = x_ext[var_i, var_j, :]\n",
    "            xy = np.column_stack((x_iext,y_iext))\n",
    "            plot.add(xy, label=f'Var.{var_i} extremes', color='red', marker='s', s=40)\n",
    "            \n",
    "            x_jext = x_ext[var_j, var_i, :]\n",
    "            y_jext = x_ext[var_j, var_j, :]\n",
    "            xy = np.column_stack((x_jext,y_jext))\n",
    "            plot.add(xy, label=f'Var.{var_j} extremes', color='green', marker='s', s=40)\n",
    "            \n",
    "#             plot.add(xy, label='max', color='green', marker='s', s=40)\n",
    "#             xy = np.array(x_ext[var_j, var_i, imax], x_ext[var_j, var_j, imax])\n",
    "#             plot.add(xy, label='max', color='red', marker='s', s=40)\n",
    "            plot.save(os.path.join(mapDir, f'{var_labels[var_i].replace(\" \", \"_\")}-vs-{var_labels[var_j].replace(\" \", \"_\")}.png'))\n",
    "            plot.show()\n",
    "        else:\n",
    "            pass\n",
    "\n",
    "\n",
    "#             x_jmax = x_ext[var_j, var_i, imax]\n",
    "#             y_jmax = x_ext[var_j, var_j, imax]\n",
    "#             x_imax = x_ext[var_i, var_i, imax]\n",
    "#             y_imax = x_ext[var_i, var_j, imax]\n",
    "\n",
    "\n",
    "# for x_i, x in enumerate(X.transpose()):\n",
    "#         for f_i, f in enumerate(F.transpose()):\n",
    "#             plot = Scatter(title=f'{var_labels[x_i]} vs. {obj_labels[f_i]}',\n",
    "#                             labels=[var_labels[x_i], obj_labels[f_i]]\n",
    "#                             )\n",
    "#             xy = np.column_stack((x,f))\n",
    "#             plot.add(xy)\n",
    "            \n",
    "            \n",
    "# #             plot.save(os.path.join(mapDir, f'{var_labels[x_i].replace(\" \", \"_\")}-vs-{obj_labels[f_i].replace(\" \", \"_\")}.png'))\n",
    "#             plot.show()"
   ]
  },
  {
   "cell_type": "markdown",
   "id": "364bb91d",
   "metadata": {},
   "source": [
    "## Plots Directory"
   ]
  },
  {
   "cell_type": "markdown",
   "id": "edb560ba",
   "metadata": {},
   "source": [
    "### Print Entities in Plots Directory"
   ]
  },
  {
   "cell_type": "code",
   "execution_count": null,
   "id": "d5241b0f",
   "metadata": {},
   "outputs": [],
   "source": [
    "ents = os.listdir(plotDir)\n",
    "for ent in ents:\n",
    "    print(ent)"
   ]
  },
  {
   "cell_type": "markdown",
   "id": "8e4df01d",
   "metadata": {},
   "source": [
    "### Print All PNGs"
   ]
  },
  {
   "cell_type": "code",
   "execution_count": null,
   "id": "4ab127b7",
   "metadata": {},
   "outputs": [],
   "source": [
    "for imageName in glob.glob(f'{plotDir}/*.png'): #assuming JPG\n",
    "    display(Image(filename=imageName))\n",
    "    print(imageName)"
   ]
  },
  {
   "cell_type": "markdown",
   "id": "ba4ccac6",
   "metadata": {},
   "source": [
    "## Generation Directory"
   ]
  },
  {
   "cell_type": "markdown",
   "id": "2cec78a3",
   "metadata": {},
   "source": [
    "### Print Entities in Generation's Individuals Directories"
   ]
  },
  {
   "cell_type": "code",
   "execution_count": null,
   "id": "1ecd1f3b",
   "metadata": {},
   "outputs": [],
   "source": [
    "ind_max = 1"
   ]
  },
  {
   "cell_type": "code",
   "execution_count": null,
   "id": "b2640a7d",
   "metadata": {},
   "outputs": [],
   "source": [
    "for ind in range(1, ind_max + 1):\n",
    "    indDir = os.path.join(genDir, f'ind{ind}')\n",
    "    ind_x = X[ind]\n",
    "    print(f'Individual {ind} - ', end='')\n",
    "    for var in range(len(X[0])):\n",
    "          print(f'{var_labels[var]}: {X[ind][var]}, ', end='')\n",
    "    print()\n",
    "#     for obj in range(len(F[0])):\n",
    "#         print(f'{obj_labels[obj]}: {F[ind][obj]}, ', end='')\n",
    "#     print()\n",
    "    print()\n",
    "    print(f'Entities in individual {ind} directory [{indDir}]: ')\n",
    "    ents = os.listdir(indDir)\n",
    "    for ent in ents:\n",
    "        print(f'     {ent}')\n",
    "        \n",
    "    ##### Process/Display Data Individual Directories ######\n",
    "        "
   ]
  },
  {
   "cell_type": "code",
   "execution_count": null,
   "id": "314b1aa6",
   "metadata": {},
   "outputs": [],
   "source": []
  },
  {
   "cell_type": "code",
   "execution_count": null,
   "id": "d3317fa2",
   "metadata": {},
   "outputs": [],
   "source": []
  }
 ],
 "metadata": {
  "kernelspec": {
   "display_name": "Python 3 (ipykernel)",
   "language": "python",
   "name": "python3"
  },
  "language_info": {
   "codemirror_mode": {
    "name": "ipython",
    "version": 3
   },
   "file_extension": ".py",
   "mimetype": "text/x-python",
   "name": "python",
   "nbconvert_exporter": "python",
   "pygments_lexer": "ipython3",
   "version": "3.9.5"
  }
 },
 "nbformat": 4,
 "nbformat_minor": 5
}
